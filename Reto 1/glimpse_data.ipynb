{
 "cells": [
  {
   "attachments": {},
   "cell_type": "markdown",
   "id": "b6113422",
   "metadata": {
    "ExecuteTime": {
     "end_time": "2023-02-27T07:37:26.304358Z",
     "start_time": "2023-02-27T07:37:23.417494Z"
    }
   },
   "source": [
    "# Nuwe Challenges - Script Kiddies"
   ]
  },
  {
   "attachments": {},
   "cell_type": "markdown",
   "id": "b0ac32e3",
   "metadata": {},
   "source": [
    "#### Import Data\n",
    "\n",
    "First the train and test data are imported using Pandas library."
   ]
  },
  {
   "cell_type": "code",
   "execution_count": null,
   "id": "1c2c7e07",
   "metadata": {},
   "outputs": [
    {
     "ename": "",
     "evalue": "",
     "output_type": "error",
     "traceback": [
      "\u001b[1;31mRunning cells with 'env_CNN_foodImages_ProyectoIngenieria' requires the ipykernel package.\n",
      "\u001b[1;31mRun the following command to install 'ipykernel' into the Python environment. \n",
      "\u001b[1;31mCommand: 'c:/Users/crist/Desktop/Documentos_Academicos/UNIVERSIDAD/3_Tercer_anio/Segundo_Semestre/Proyecto_de_Ingenieria/Proyecto/repo_producto_red_neuronal/ProyIng_Grupo2/env_CNN_foodImages_ProyectoIngenieria/Scripts/python.exe -m pip install ipykernel -U --force-reinstall'"
     ]
    }
   ],
   "source": [
    "import pandas as pd"
   ]
  },
  {
   "attachments": {},
   "cell_type": "markdown",
   "id": "31811484",
   "metadata": {},
   "source": [
    "Using the *read_csv()* function of this library, the training and test files are read."
   ]
  },
  {
   "cell_type": "code",
   "execution_count": 4,
   "id": "d17d7d6f",
   "metadata": {},
   "outputs": [
    {
     "data": {
      "text/html": [
       "<div>\n",
       "<style scoped>\n",
       "    .dataframe tbody tr th:only-of-type {\n",
       "        vertical-align: middle;\n",
       "    }\n",
       "\n",
       "    .dataframe tbody tr th {\n",
       "        vertical-align: top;\n",
       "    }\n",
       "\n",
       "    .dataframe thead th {\n",
       "        text-align: right;\n",
       "    }\n",
       "</style>\n",
       "<table border=\"1\" class=\"dataframe\">\n",
       "  <thead>\n",
       "    <tr style=\"text-align: right;\">\n",
       "      <th></th>\n",
       "      <th>idx_train</th>\n",
       "      <th>path_img</th>\n",
       "      <th>label</th>\n",
       "    </tr>\n",
       "  </thead>\n",
       "  <tbody>\n",
       "    <tr>\n",
       "      <th>0</th>\n",
       "      <td>0</td>\n",
       "      <td>all_imgs/bc7696f4-1460-4d0b-a63d-f84b3be4da0f....</td>\n",
       "      <td>0</td>\n",
       "    </tr>\n",
       "    <tr>\n",
       "      <th>1</th>\n",
       "      <td>1</td>\n",
       "      <td>all_imgs/f8d50663-60d8-4da5-a8b8-79f954aec503....</td>\n",
       "      <td>2</td>\n",
       "    </tr>\n",
       "    <tr>\n",
       "      <th>2</th>\n",
       "      <td>2</td>\n",
       "      <td>all_imgs/51df0f29-758b-4741-ab74-a0ff8e21c044....</td>\n",
       "      <td>4</td>\n",
       "    </tr>\n",
       "    <tr>\n",
       "      <th>3</th>\n",
       "      <td>3</td>\n",
       "      <td>all_imgs/f61b81d3-3b79-4162-b4d6-4f1b39518c4c....</td>\n",
       "      <td>0</td>\n",
       "    </tr>\n",
       "    <tr>\n",
       "      <th>4</th>\n",
       "      <td>4</td>\n",
       "      <td>all_imgs/b21e0668-bd09-4794-9e90-da8ecffc4c1c....</td>\n",
       "      <td>0</td>\n",
       "    </tr>\n",
       "    <tr>\n",
       "      <th>...</th>\n",
       "      <td>...</td>\n",
       "      <td>...</td>\n",
       "      <td>...</td>\n",
       "    </tr>\n",
       "    <tr>\n",
       "      <th>11195</th>\n",
       "      <td>11195</td>\n",
       "      <td>all_imgs/b834c3fa-4fb0-4e38-ae32-7fd4a4141fe6....</td>\n",
       "      <td>2</td>\n",
       "    </tr>\n",
       "    <tr>\n",
       "      <th>11196</th>\n",
       "      <td>11196</td>\n",
       "      <td>all_imgs/b93165ab-a87d-4ee1-8360-9b9728a3fc4b....</td>\n",
       "      <td>6</td>\n",
       "    </tr>\n",
       "    <tr>\n",
       "      <th>11197</th>\n",
       "      <td>11197</td>\n",
       "      <td>all_imgs/a130fcbb-2b90-4922-b1e2-4770fddf6b91....</td>\n",
       "      <td>5</td>\n",
       "    </tr>\n",
       "    <tr>\n",
       "      <th>11198</th>\n",
       "      <td>11198</td>\n",
       "      <td>all_imgs/bf402d68-ca0b-47f2-86f9-6e81d4bdbb38....</td>\n",
       "      <td>7</td>\n",
       "    </tr>\n",
       "    <tr>\n",
       "      <th>11199</th>\n",
       "      <td>11199</td>\n",
       "      <td>all_imgs/a609a4a1-bd42-4053-9de7-5e94a812425b....</td>\n",
       "      <td>0</td>\n",
       "    </tr>\n",
       "  </tbody>\n",
       "</table>\n",
       "<p>11200 rows × 3 columns</p>\n",
       "</div>"
      ],
      "text/plain": [
       "       idx_train                                           path_img  label\n",
       "0              0  all_imgs/bc7696f4-1460-4d0b-a63d-f84b3be4da0f....      0\n",
       "1              1  all_imgs/f8d50663-60d8-4da5-a8b8-79f954aec503....      2\n",
       "2              2  all_imgs/51df0f29-758b-4741-ab74-a0ff8e21c044....      4\n",
       "3              3  all_imgs/f61b81d3-3b79-4162-b4d6-4f1b39518c4c....      0\n",
       "4              4  all_imgs/b21e0668-bd09-4794-9e90-da8ecffc4c1c....      0\n",
       "...          ...                                                ...    ...\n",
       "11195      11195  all_imgs/b834c3fa-4fb0-4e38-ae32-7fd4a4141fe6....      2\n",
       "11196      11196  all_imgs/b93165ab-a87d-4ee1-8360-9b9728a3fc4b....      6\n",
       "11197      11197  all_imgs/a130fcbb-2b90-4922-b1e2-4770fddf6b91....      5\n",
       "11198      11198  all_imgs/bf402d68-ca0b-47f2-86f9-6e81d4bdbb38....      7\n",
       "11199      11199  all_imgs/a609a4a1-bd42-4053-9de7-5e94a812425b....      0\n",
       "\n",
       "[11200 rows x 3 columns]"
      ]
     },
     "execution_count": 4,
     "metadata": {},
     "output_type": "execute_result"
    }
   ],
   "source": [
    "train_source = pd.read_csv(\"train.csv\")\n",
    "train_source"
   ]
  },
  {
   "cell_type": "code",
   "execution_count": 5,
   "id": "e4e97959",
   "metadata": {},
   "outputs": [
    {
     "data": {
      "text/html": [
       "<div>\n",
       "<style scoped>\n",
       "    .dataframe tbody tr th:only-of-type {\n",
       "        vertical-align: middle;\n",
       "    }\n",
       "\n",
       "    .dataframe tbody tr th {\n",
       "        vertical-align: top;\n",
       "    }\n",
       "\n",
       "    .dataframe thead th {\n",
       "        text-align: right;\n",
       "    }\n",
       "</style>\n",
       "<table border=\"1\" class=\"dataframe\">\n",
       "  <thead>\n",
       "    <tr style=\"text-align: right;\">\n",
       "      <th></th>\n",
       "      <th>idx_test</th>\n",
       "      <th>path_img</th>\n",
       "      <th>label</th>\n",
       "    </tr>\n",
       "  </thead>\n",
       "  <tbody>\n",
       "    <tr>\n",
       "      <th>0</th>\n",
       "      <td>0</td>\n",
       "      <td>all_imgs/ec4c75ba-e064-4ed0-a7b1-3ed899424110....</td>\n",
       "      <td>6</td>\n",
       "    </tr>\n",
       "    <tr>\n",
       "      <th>1</th>\n",
       "      <td>1</td>\n",
       "      <td>all_imgs/114fb94d-3223-4d95-b6d1-f6a6ac206ea2....</td>\n",
       "      <td>2</td>\n",
       "    </tr>\n",
       "    <tr>\n",
       "      <th>2</th>\n",
       "      <td>2</td>\n",
       "      <td>all_imgs/a80e7e27-a25a-40aa-a65c-a29bfa172b3d....</td>\n",
       "      <td>6</td>\n",
       "    </tr>\n",
       "    <tr>\n",
       "      <th>3</th>\n",
       "      <td>3</td>\n",
       "      <td>all_imgs/7848d24e-207a-4236-9cd7-df78122d8787....</td>\n",
       "      <td>6</td>\n",
       "    </tr>\n",
       "    <tr>\n",
       "      <th>4</th>\n",
       "      <td>4</td>\n",
       "      <td>all_imgs/57f726bc-d141-42fb-88fa-60d554499277....</td>\n",
       "      <td>5</td>\n",
       "    </tr>\n",
       "    <tr>\n",
       "      <th>...</th>\n",
       "      <td>...</td>\n",
       "      <td>...</td>\n",
       "      <td>...</td>\n",
       "    </tr>\n",
       "    <tr>\n",
       "      <th>4795</th>\n",
       "      <td>4795</td>\n",
       "      <td>all_imgs/5ad5bee4-c18b-48b7-921a-f10ee9a17ad1....</td>\n",
       "      <td>1</td>\n",
       "    </tr>\n",
       "    <tr>\n",
       "      <th>4796</th>\n",
       "      <td>4796</td>\n",
       "      <td>all_imgs/99ec9e46-6bff-463c-af86-6b38aecb9a39....</td>\n",
       "      <td>2</td>\n",
       "    </tr>\n",
       "    <tr>\n",
       "      <th>4797</th>\n",
       "      <td>4797</td>\n",
       "      <td>all_imgs/9ab954c9-8f13-4270-9b66-e669169b1f4f....</td>\n",
       "      <td>3</td>\n",
       "    </tr>\n",
       "    <tr>\n",
       "      <th>4798</th>\n",
       "      <td>4798</td>\n",
       "      <td>all_imgs/f41894e0-bed2-4b47-a8bc-2bab477d8ee7....</td>\n",
       "      <td>7</td>\n",
       "    </tr>\n",
       "    <tr>\n",
       "      <th>4799</th>\n",
       "      <td>4799</td>\n",
       "      <td>all_imgs/d98e1059-0f69-460f-822b-f73e5a50804e....</td>\n",
       "      <td>1</td>\n",
       "    </tr>\n",
       "  </tbody>\n",
       "</table>\n",
       "<p>4800 rows × 3 columns</p>\n",
       "</div>"
      ],
      "text/plain": [
       "      idx_test                                           path_img  label\n",
       "0            0  all_imgs/ec4c75ba-e064-4ed0-a7b1-3ed899424110....      6\n",
       "1            1  all_imgs/114fb94d-3223-4d95-b6d1-f6a6ac206ea2....      2\n",
       "2            2  all_imgs/a80e7e27-a25a-40aa-a65c-a29bfa172b3d....      6\n",
       "3            3  all_imgs/7848d24e-207a-4236-9cd7-df78122d8787....      6\n",
       "4            4  all_imgs/57f726bc-d141-42fb-88fa-60d554499277....      5\n",
       "...        ...                                                ...    ...\n",
       "4795      4795  all_imgs/5ad5bee4-c18b-48b7-921a-f10ee9a17ad1....      1\n",
       "4796      4796  all_imgs/99ec9e46-6bff-463c-af86-6b38aecb9a39....      2\n",
       "4797      4797  all_imgs/9ab954c9-8f13-4270-9b66-e669169b1f4f....      3\n",
       "4798      4798  all_imgs/f41894e0-bed2-4b47-a8bc-2bab477d8ee7....      7\n",
       "4799      4799  all_imgs/d98e1059-0f69-460f-822b-f73e5a50804e....      1\n",
       "\n",
       "[4800 rows x 3 columns]"
      ]
     },
     "execution_count": 5,
     "metadata": {},
     "output_type": "execute_result"
    }
   ],
   "source": [
    "test_source = pd.read_csv(\"test.csv\")\n",
    "test_source"
   ]
  },
  {
   "attachments": {},
   "cell_type": "markdown",
   "id": "cd316e8b",
   "metadata": {},
   "source": [
    "Both the train and test datasets have an index column called idx_train and idx_test, respectively.\n",
    "\n",
    "Being purely that, indices, and since there is already one by default for each dataframe, they can be removed using the *drop()* function."
   ]
  },
  {
   "cell_type": "code",
   "execution_count": 6,
   "id": "f864621e",
   "metadata": {},
   "outputs": [
    {
     "data": {
      "text/html": [
       "<div>\n",
       "<style scoped>\n",
       "    .dataframe tbody tr th:only-of-type {\n",
       "        vertical-align: middle;\n",
       "    }\n",
       "\n",
       "    .dataframe tbody tr th {\n",
       "        vertical-align: top;\n",
       "    }\n",
       "\n",
       "    .dataframe thead th {\n",
       "        text-align: right;\n",
       "    }\n",
       "</style>\n",
       "<table border=\"1\" class=\"dataframe\">\n",
       "  <thead>\n",
       "    <tr style=\"text-align: right;\">\n",
       "      <th></th>\n",
       "      <th>path_img</th>\n",
       "      <th>label</th>\n",
       "    </tr>\n",
       "  </thead>\n",
       "  <tbody>\n",
       "    <tr>\n",
       "      <th>0</th>\n",
       "      <td>all_imgs/bc7696f4-1460-4d0b-a63d-f84b3be4da0f....</td>\n",
       "      <td>0</td>\n",
       "    </tr>\n",
       "    <tr>\n",
       "      <th>1</th>\n",
       "      <td>all_imgs/f8d50663-60d8-4da5-a8b8-79f954aec503....</td>\n",
       "      <td>2</td>\n",
       "    </tr>\n",
       "    <tr>\n",
       "      <th>2</th>\n",
       "      <td>all_imgs/51df0f29-758b-4741-ab74-a0ff8e21c044....</td>\n",
       "      <td>4</td>\n",
       "    </tr>\n",
       "    <tr>\n",
       "      <th>3</th>\n",
       "      <td>all_imgs/f61b81d3-3b79-4162-b4d6-4f1b39518c4c....</td>\n",
       "      <td>0</td>\n",
       "    </tr>\n",
       "    <tr>\n",
       "      <th>4</th>\n",
       "      <td>all_imgs/b21e0668-bd09-4794-9e90-da8ecffc4c1c....</td>\n",
       "      <td>0</td>\n",
       "    </tr>\n",
       "    <tr>\n",
       "      <th>...</th>\n",
       "      <td>...</td>\n",
       "      <td>...</td>\n",
       "    </tr>\n",
       "    <tr>\n",
       "      <th>11195</th>\n",
       "      <td>all_imgs/b834c3fa-4fb0-4e38-ae32-7fd4a4141fe6....</td>\n",
       "      <td>2</td>\n",
       "    </tr>\n",
       "    <tr>\n",
       "      <th>11196</th>\n",
       "      <td>all_imgs/b93165ab-a87d-4ee1-8360-9b9728a3fc4b....</td>\n",
       "      <td>6</td>\n",
       "    </tr>\n",
       "    <tr>\n",
       "      <th>11197</th>\n",
       "      <td>all_imgs/a130fcbb-2b90-4922-b1e2-4770fddf6b91....</td>\n",
       "      <td>5</td>\n",
       "    </tr>\n",
       "    <tr>\n",
       "      <th>11198</th>\n",
       "      <td>all_imgs/bf402d68-ca0b-47f2-86f9-6e81d4bdbb38....</td>\n",
       "      <td>7</td>\n",
       "    </tr>\n",
       "    <tr>\n",
       "      <th>11199</th>\n",
       "      <td>all_imgs/a609a4a1-bd42-4053-9de7-5e94a812425b....</td>\n",
       "      <td>0</td>\n",
       "    </tr>\n",
       "  </tbody>\n",
       "</table>\n",
       "<p>11200 rows × 2 columns</p>\n",
       "</div>"
      ],
      "text/plain": [
       "                                                path_img  label\n",
       "0      all_imgs/bc7696f4-1460-4d0b-a63d-f84b3be4da0f....      0\n",
       "1      all_imgs/f8d50663-60d8-4da5-a8b8-79f954aec503....      2\n",
       "2      all_imgs/51df0f29-758b-4741-ab74-a0ff8e21c044....      4\n",
       "3      all_imgs/f61b81d3-3b79-4162-b4d6-4f1b39518c4c....      0\n",
       "4      all_imgs/b21e0668-bd09-4794-9e90-da8ecffc4c1c....      0\n",
       "...                                                  ...    ...\n",
       "11195  all_imgs/b834c3fa-4fb0-4e38-ae32-7fd4a4141fe6....      2\n",
       "11196  all_imgs/b93165ab-a87d-4ee1-8360-9b9728a3fc4b....      6\n",
       "11197  all_imgs/a130fcbb-2b90-4922-b1e2-4770fddf6b91....      5\n",
       "11198  all_imgs/bf402d68-ca0b-47f2-86f9-6e81d4bdbb38....      7\n",
       "11199  all_imgs/a609a4a1-bd42-4053-9de7-5e94a812425b....      0\n",
       "\n",
       "[11200 rows x 2 columns]"
      ]
     },
     "execution_count": 6,
     "metadata": {},
     "output_type": "execute_result"
    }
   ],
   "source": [
    "train = train_source.drop(\"idx_train\", axis = 1)\n",
    "train"
   ]
  },
  {
   "cell_type": "code",
   "execution_count": 7,
   "id": "7d71c2cf",
   "metadata": {},
   "outputs": [
    {
     "data": {
      "text/html": [
       "<div>\n",
       "<style scoped>\n",
       "    .dataframe tbody tr th:only-of-type {\n",
       "        vertical-align: middle;\n",
       "    }\n",
       "\n",
       "    .dataframe tbody tr th {\n",
       "        vertical-align: top;\n",
       "    }\n",
       "\n",
       "    .dataframe thead th {\n",
       "        text-align: right;\n",
       "    }\n",
       "</style>\n",
       "<table border=\"1\" class=\"dataframe\">\n",
       "  <thead>\n",
       "    <tr style=\"text-align: right;\">\n",
       "      <th></th>\n",
       "      <th>path_img</th>\n",
       "      <th>label</th>\n",
       "    </tr>\n",
       "  </thead>\n",
       "  <tbody>\n",
       "    <tr>\n",
       "      <th>0</th>\n",
       "      <td>all_imgs/ec4c75ba-e064-4ed0-a7b1-3ed899424110....</td>\n",
       "      <td>6</td>\n",
       "    </tr>\n",
       "    <tr>\n",
       "      <th>1</th>\n",
       "      <td>all_imgs/114fb94d-3223-4d95-b6d1-f6a6ac206ea2....</td>\n",
       "      <td>2</td>\n",
       "    </tr>\n",
       "    <tr>\n",
       "      <th>2</th>\n",
       "      <td>all_imgs/a80e7e27-a25a-40aa-a65c-a29bfa172b3d....</td>\n",
       "      <td>6</td>\n",
       "    </tr>\n",
       "    <tr>\n",
       "      <th>3</th>\n",
       "      <td>all_imgs/7848d24e-207a-4236-9cd7-df78122d8787....</td>\n",
       "      <td>6</td>\n",
       "    </tr>\n",
       "    <tr>\n",
       "      <th>4</th>\n",
       "      <td>all_imgs/57f726bc-d141-42fb-88fa-60d554499277....</td>\n",
       "      <td>5</td>\n",
       "    </tr>\n",
       "    <tr>\n",
       "      <th>...</th>\n",
       "      <td>...</td>\n",
       "      <td>...</td>\n",
       "    </tr>\n",
       "    <tr>\n",
       "      <th>4795</th>\n",
       "      <td>all_imgs/5ad5bee4-c18b-48b7-921a-f10ee9a17ad1....</td>\n",
       "      <td>1</td>\n",
       "    </tr>\n",
       "    <tr>\n",
       "      <th>4796</th>\n",
       "      <td>all_imgs/99ec9e46-6bff-463c-af86-6b38aecb9a39....</td>\n",
       "      <td>2</td>\n",
       "    </tr>\n",
       "    <tr>\n",
       "      <th>4797</th>\n",
       "      <td>all_imgs/9ab954c9-8f13-4270-9b66-e669169b1f4f....</td>\n",
       "      <td>3</td>\n",
       "    </tr>\n",
       "    <tr>\n",
       "      <th>4798</th>\n",
       "      <td>all_imgs/f41894e0-bed2-4b47-a8bc-2bab477d8ee7....</td>\n",
       "      <td>7</td>\n",
       "    </tr>\n",
       "    <tr>\n",
       "      <th>4799</th>\n",
       "      <td>all_imgs/d98e1059-0f69-460f-822b-f73e5a50804e....</td>\n",
       "      <td>1</td>\n",
       "    </tr>\n",
       "  </tbody>\n",
       "</table>\n",
       "<p>4800 rows × 2 columns</p>\n",
       "</div>"
      ],
      "text/plain": [
       "                                               path_img  label\n",
       "0     all_imgs/ec4c75ba-e064-4ed0-a7b1-3ed899424110....      6\n",
       "1     all_imgs/114fb94d-3223-4d95-b6d1-f6a6ac206ea2....      2\n",
       "2     all_imgs/a80e7e27-a25a-40aa-a65c-a29bfa172b3d....      6\n",
       "3     all_imgs/7848d24e-207a-4236-9cd7-df78122d8787....      6\n",
       "4     all_imgs/57f726bc-d141-42fb-88fa-60d554499277....      5\n",
       "...                                                 ...    ...\n",
       "4795  all_imgs/5ad5bee4-c18b-48b7-921a-f10ee9a17ad1....      1\n",
       "4796  all_imgs/99ec9e46-6bff-463c-af86-6b38aecb9a39....      2\n",
       "4797  all_imgs/9ab954c9-8f13-4270-9b66-e669169b1f4f....      3\n",
       "4798  all_imgs/f41894e0-bed2-4b47-a8bc-2bab477d8ee7....      7\n",
       "4799  all_imgs/d98e1059-0f69-460f-822b-f73e5a50804e....      1\n",
       "\n",
       "[4800 rows x 2 columns]"
      ]
     },
     "execution_count": 7,
     "metadata": {},
     "output_type": "execute_result"
    }
   ],
   "source": [
    "test = test_source.drop(\"idx_test\", axis = 1)\n",
    "test"
   ]
  },
  {
   "attachments": {},
   "cell_type": "markdown",
   "id": "8a318c0d",
   "metadata": {},
   "source": [
    "Any column in both datasets is checked for null data using *isnull().sum()*, which will return the number of nulls in each of the columns."
   ]
  },
  {
   "cell_type": "code",
   "execution_count": 8,
   "id": "fdcb98b8",
   "metadata": {},
   "outputs": [
    {
     "data": {
      "text/plain": [
       "path_img    0\n",
       "label       0\n",
       "dtype: int64"
      ]
     },
     "execution_count": 8,
     "metadata": {},
     "output_type": "execute_result"
    }
   ],
   "source": [
    "train.isnull().sum()"
   ]
  },
  {
   "cell_type": "code",
   "execution_count": 9,
   "id": "d3e383ce",
   "metadata": {},
   "outputs": [
    {
     "data": {
      "text/plain": [
       "path_img    0\n",
       "label       0\n",
       "dtype: int64"
      ]
     },
     "execution_count": 9,
     "metadata": {},
     "output_type": "execute_result"
    }
   ],
   "source": [
    "test.isnull().sum()"
   ]
  },
  {
   "attachments": {},
   "cell_type": "markdown",
   "id": "43f484ed",
   "metadata": {},
   "source": [
    "After checking that there are no nulls, we will proceed to investigate more about the \"label\" attribute, which will be the label to predict for each of the images whose paths are stored in the \"path_img\" column."
   ]
  },
  {
   "cell_type": "code",
   "execution_count": 8,
   "id": "da7bc636",
   "metadata": {},
   "outputs": [
    {
     "data": {
      "text/plain": [
       "array([0, 2, 4, 7, 5, 1, 6, 3], dtype=int64)"
      ]
     },
     "execution_count": 8,
     "metadata": {},
     "output_type": "execute_result"
    }
   ],
   "source": [
    "train.label.unique()"
   ]
  },
  {
   "attachments": {},
   "cell_type": "markdown",
   "id": "01c8478f",
   "metadata": {},
   "source": [
    "It can be seen that there are a total of 8 different categories for the label. After investigating a little more when exploring the content of the images, it has been possible to deduce that the following is the meaning interpreted for each of the categories:\n",
    "- 0 ~> Burgers\n",
    "- 1 ~> Chicken wings\n",
    "- 2 ~> Donuts\n",
    "- 3 ~> French fries\n",
    "- 4 ~> Hot Dogs\n",
    "- 5 ~> Pizza\n",
    "- 6 ~> Sandwiches\n",
    "- 7 ~> Roast potatoes\n",
    "\n",
    "This interpretation is only to understand the categories. They will not be mapped since the delivery must have the same format for the targets as the initial datasets."
   ]
  }
 ],
 "metadata": {
  "kernelspec": {
   "display_name": "Python 3 (ipykernel)",
   "language": "python",
   "name": "python3"
  },
  "language_info": {
   "codemirror_mode": {
    "name": "ipython",
    "version": 3
   },
   "file_extension": ".py",
   "mimetype": "text/x-python",
   "name": "python",
   "nbconvert_exporter": "python",
   "pygments_lexer": "ipython3",
   "version": "3.10.6"
  }
 },
 "nbformat": 4,
 "nbformat_minor": 5
}
