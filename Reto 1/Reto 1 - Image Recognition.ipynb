{
 "cells": [
  {
   "cell_type": "markdown",
   "id": "b6113422",
   "metadata": {
    "ExecuteTime": {
     "end_time": "2023-02-27T07:37:26.304358Z",
     "start_time": "2023-02-27T07:37:23.417494Z"
    }
   },
   "source": [
    "# Retos Nuwe - Script Kiddies"
   ]
  },
  {
   "cell_type": "markdown",
   "id": "7dcbd7b3",
   "metadata": {},
   "source": [
    "### Reto 1: Reconocimiento de imágenes\n",
    "\n",
    "#### 📖 Contexto\n",
    "\n",
    "ENLACE COMPETICIÓN ~> https://nuwe.io/dev/competitions/reto-ensena-oracle-espana\n",
    "\n",
    "En 2024, NUWE unirá tecnología y restauración lanzando en España la cadena de restaurantes del futuro: “NUWE EVA”. En “NUWE EVA\" podrás elegir de entre un gran abanico de deliciosos platos que a simple vista parecerán la típica comida fast food, pero que estarán elaborados con los mejores ingredientes para que puedas disfrutar del mejor sabor y de la mejor calidad. Estarás comiendo en el restaurante healthy del momento. Y eso no es todo. Nuestro robot y talentoso camarero, “EVA”, os atenderá con gusto para ofreceros la mejor experiencia. (Caso ficticio)\n",
    "\n",
    "#### 🎯 Objetivo:\n",
    "Crea una clasificación de alimentos que estén o estarán presentes en nuestra carta, para que nuestro robot “EVA” pueda detectar lo que pedirán los comensales. Aquí tienes el data set para el desarrollo de tu reto.\n",
    "\n",
    "\n",
    "#### 💯 Evaluación:\n",
    "La evaluación y puntuación de este primer reto se evaluará con el criterio de F1-score macro.\n",
    "\n",
    "La limitación que existe en este reto son las tecnicas de Transfer Learning, se tiene que programar la red neuronal y entrenar de forma manual. Además, de que el uso de datos externos también se verá penalizado incluso desqualifiado para la competición.\n",
    "\n",
    "\n",
    "#### ✅ Formato de entrega\n",
    "Para el archivo que tiene que enviar le presentamos una plantilla de ejemplo de cómo tiene que ser el JSON:\n",
    "\n",
    "JSON template: https://storage.googleapis.com/challenges_events/01_2023/Vueling/Data/Vueling_F1/template.json\n",
    "\n",
    "En este fichero JSON es muy importante aclarar lo siguiente: Debes indicar la clave objetivo de cómo se visualiza; el valor será el JSON de los resultados del modelo de predicción. En estas predicciones la clave corresponderá a la fila con el idx_test y el valor será la predicción realizada por tu modelo."
   ]
  },
  {
   "cell_type": "markdown",
   "id": "b0ac32e3",
   "metadata": {},
   "source": [
    "### Procedimiento\n",
    "#### Importación de los datos\n",
    "\n",
    "Primero se importarán los datos de train y test. Para ello se hará uso de la librería Pandas."
   ]
  },
  {
   "cell_type": "code",
   "execution_count": 1,
   "id": "1c2c7e07",
   "metadata": {},
   "outputs": [],
   "source": [
    "import pandas as pd"
   ]
  },
  {
   "cell_type": "markdown",
   "id": "31811484",
   "metadata": {},
   "source": [
    "Usando la función *read_csv()* de esta librería, se leen los ficheros de entrenamiento y testeo."
   ]
  },
  {
   "cell_type": "code",
   "execution_count": 4,
   "id": "d17d7d6f",
   "metadata": {},
   "outputs": [
    {
     "data": {
      "text/html": [
       "<div>\n",
       "<style scoped>\n",
       "    .dataframe tbody tr th:only-of-type {\n",
       "        vertical-align: middle;\n",
       "    }\n",
       "\n",
       "    .dataframe tbody tr th {\n",
       "        vertical-align: top;\n",
       "    }\n",
       "\n",
       "    .dataframe thead th {\n",
       "        text-align: right;\n",
       "    }\n",
       "</style>\n",
       "<table border=\"1\" class=\"dataframe\">\n",
       "  <thead>\n",
       "    <tr style=\"text-align: right;\">\n",
       "      <th></th>\n",
       "      <th>idx_train</th>\n",
       "      <th>path_img</th>\n",
       "      <th>label</th>\n",
       "    </tr>\n",
       "  </thead>\n",
       "  <tbody>\n",
       "    <tr>\n",
       "      <th>0</th>\n",
       "      <td>0</td>\n",
       "      <td>all_imgs/bc7696f4-1460-4d0b-a63d-f84b3be4da0f....</td>\n",
       "      <td>0</td>\n",
       "    </tr>\n",
       "    <tr>\n",
       "      <th>1</th>\n",
       "      <td>1</td>\n",
       "      <td>all_imgs/f8d50663-60d8-4da5-a8b8-79f954aec503....</td>\n",
       "      <td>2</td>\n",
       "    </tr>\n",
       "    <tr>\n",
       "      <th>2</th>\n",
       "      <td>2</td>\n",
       "      <td>all_imgs/51df0f29-758b-4741-ab74-a0ff8e21c044....</td>\n",
       "      <td>4</td>\n",
       "    </tr>\n",
       "    <tr>\n",
       "      <th>3</th>\n",
       "      <td>3</td>\n",
       "      <td>all_imgs/f61b81d3-3b79-4162-b4d6-4f1b39518c4c....</td>\n",
       "      <td>0</td>\n",
       "    </tr>\n",
       "    <tr>\n",
       "      <th>4</th>\n",
       "      <td>4</td>\n",
       "      <td>all_imgs/b21e0668-bd09-4794-9e90-da8ecffc4c1c....</td>\n",
       "      <td>0</td>\n",
       "    </tr>\n",
       "    <tr>\n",
       "      <th>...</th>\n",
       "      <td>...</td>\n",
       "      <td>...</td>\n",
       "      <td>...</td>\n",
       "    </tr>\n",
       "    <tr>\n",
       "      <th>11195</th>\n",
       "      <td>11195</td>\n",
       "      <td>all_imgs/b834c3fa-4fb0-4e38-ae32-7fd4a4141fe6....</td>\n",
       "      <td>2</td>\n",
       "    </tr>\n",
       "    <tr>\n",
       "      <th>11196</th>\n",
       "      <td>11196</td>\n",
       "      <td>all_imgs/b93165ab-a87d-4ee1-8360-9b9728a3fc4b....</td>\n",
       "      <td>6</td>\n",
       "    </tr>\n",
       "    <tr>\n",
       "      <th>11197</th>\n",
       "      <td>11197</td>\n",
       "      <td>all_imgs/a130fcbb-2b90-4922-b1e2-4770fddf6b91....</td>\n",
       "      <td>5</td>\n",
       "    </tr>\n",
       "    <tr>\n",
       "      <th>11198</th>\n",
       "      <td>11198</td>\n",
       "      <td>all_imgs/bf402d68-ca0b-47f2-86f9-6e81d4bdbb38....</td>\n",
       "      <td>7</td>\n",
       "    </tr>\n",
       "    <tr>\n",
       "      <th>11199</th>\n",
       "      <td>11199</td>\n",
       "      <td>all_imgs/a609a4a1-bd42-4053-9de7-5e94a812425b....</td>\n",
       "      <td>0</td>\n",
       "    </tr>\n",
       "  </tbody>\n",
       "</table>\n",
       "<p>11200 rows × 3 columns</p>\n",
       "</div>"
      ],
      "text/plain": [
       "       idx_train                                           path_img  label\n",
       "0              0  all_imgs/bc7696f4-1460-4d0b-a63d-f84b3be4da0f....      0\n",
       "1              1  all_imgs/f8d50663-60d8-4da5-a8b8-79f954aec503....      2\n",
       "2              2  all_imgs/51df0f29-758b-4741-ab74-a0ff8e21c044....      4\n",
       "3              3  all_imgs/f61b81d3-3b79-4162-b4d6-4f1b39518c4c....      0\n",
       "4              4  all_imgs/b21e0668-bd09-4794-9e90-da8ecffc4c1c....      0\n",
       "...          ...                                                ...    ...\n",
       "11195      11195  all_imgs/b834c3fa-4fb0-4e38-ae32-7fd4a4141fe6....      2\n",
       "11196      11196  all_imgs/b93165ab-a87d-4ee1-8360-9b9728a3fc4b....      6\n",
       "11197      11197  all_imgs/a130fcbb-2b90-4922-b1e2-4770fddf6b91....      5\n",
       "11198      11198  all_imgs/bf402d68-ca0b-47f2-86f9-6e81d4bdbb38....      7\n",
       "11199      11199  all_imgs/a609a4a1-bd42-4053-9de7-5e94a812425b....      0\n",
       "\n",
       "[11200 rows x 3 columns]"
      ]
     },
     "execution_count": 4,
     "metadata": {},
     "output_type": "execute_result"
    }
   ],
   "source": [
    "train_source = pd.read_csv(\"train.csv\")\n",
    "train_source"
   ]
  },
  {
   "cell_type": "code",
   "execution_count": 5,
   "id": "e4e97959",
   "metadata": {},
   "outputs": [
    {
     "data": {
      "text/html": [
       "<div>\n",
       "<style scoped>\n",
       "    .dataframe tbody tr th:only-of-type {\n",
       "        vertical-align: middle;\n",
       "    }\n",
       "\n",
       "    .dataframe tbody tr th {\n",
       "        vertical-align: top;\n",
       "    }\n",
       "\n",
       "    .dataframe thead th {\n",
       "        text-align: right;\n",
       "    }\n",
       "</style>\n",
       "<table border=\"1\" class=\"dataframe\">\n",
       "  <thead>\n",
       "    <tr style=\"text-align: right;\">\n",
       "      <th></th>\n",
       "      <th>idx_test</th>\n",
       "      <th>path_img</th>\n",
       "      <th>label</th>\n",
       "    </tr>\n",
       "  </thead>\n",
       "  <tbody>\n",
       "    <tr>\n",
       "      <th>0</th>\n",
       "      <td>0</td>\n",
       "      <td>all_imgs/ec4c75ba-e064-4ed0-a7b1-3ed899424110....</td>\n",
       "      <td>6</td>\n",
       "    </tr>\n",
       "    <tr>\n",
       "      <th>1</th>\n",
       "      <td>1</td>\n",
       "      <td>all_imgs/114fb94d-3223-4d95-b6d1-f6a6ac206ea2....</td>\n",
       "      <td>2</td>\n",
       "    </tr>\n",
       "    <tr>\n",
       "      <th>2</th>\n",
       "      <td>2</td>\n",
       "      <td>all_imgs/a80e7e27-a25a-40aa-a65c-a29bfa172b3d....</td>\n",
       "      <td>6</td>\n",
       "    </tr>\n",
       "    <tr>\n",
       "      <th>3</th>\n",
       "      <td>3</td>\n",
       "      <td>all_imgs/7848d24e-207a-4236-9cd7-df78122d8787....</td>\n",
       "      <td>6</td>\n",
       "    </tr>\n",
       "    <tr>\n",
       "      <th>4</th>\n",
       "      <td>4</td>\n",
       "      <td>all_imgs/57f726bc-d141-42fb-88fa-60d554499277....</td>\n",
       "      <td>5</td>\n",
       "    </tr>\n",
       "    <tr>\n",
       "      <th>...</th>\n",
       "      <td>...</td>\n",
       "      <td>...</td>\n",
       "      <td>...</td>\n",
       "    </tr>\n",
       "    <tr>\n",
       "      <th>4795</th>\n",
       "      <td>4795</td>\n",
       "      <td>all_imgs/5ad5bee4-c18b-48b7-921a-f10ee9a17ad1....</td>\n",
       "      <td>1</td>\n",
       "    </tr>\n",
       "    <tr>\n",
       "      <th>4796</th>\n",
       "      <td>4796</td>\n",
       "      <td>all_imgs/99ec9e46-6bff-463c-af86-6b38aecb9a39....</td>\n",
       "      <td>2</td>\n",
       "    </tr>\n",
       "    <tr>\n",
       "      <th>4797</th>\n",
       "      <td>4797</td>\n",
       "      <td>all_imgs/9ab954c9-8f13-4270-9b66-e669169b1f4f....</td>\n",
       "      <td>3</td>\n",
       "    </tr>\n",
       "    <tr>\n",
       "      <th>4798</th>\n",
       "      <td>4798</td>\n",
       "      <td>all_imgs/f41894e0-bed2-4b47-a8bc-2bab477d8ee7....</td>\n",
       "      <td>7</td>\n",
       "    </tr>\n",
       "    <tr>\n",
       "      <th>4799</th>\n",
       "      <td>4799</td>\n",
       "      <td>all_imgs/d98e1059-0f69-460f-822b-f73e5a50804e....</td>\n",
       "      <td>1</td>\n",
       "    </tr>\n",
       "  </tbody>\n",
       "</table>\n",
       "<p>4800 rows × 3 columns</p>\n",
       "</div>"
      ],
      "text/plain": [
       "      idx_test                                           path_img  label\n",
       "0            0  all_imgs/ec4c75ba-e064-4ed0-a7b1-3ed899424110....      6\n",
       "1            1  all_imgs/114fb94d-3223-4d95-b6d1-f6a6ac206ea2....      2\n",
       "2            2  all_imgs/a80e7e27-a25a-40aa-a65c-a29bfa172b3d....      6\n",
       "3            3  all_imgs/7848d24e-207a-4236-9cd7-df78122d8787....      6\n",
       "4            4  all_imgs/57f726bc-d141-42fb-88fa-60d554499277....      5\n",
       "...        ...                                                ...    ...\n",
       "4795      4795  all_imgs/5ad5bee4-c18b-48b7-921a-f10ee9a17ad1....      1\n",
       "4796      4796  all_imgs/99ec9e46-6bff-463c-af86-6b38aecb9a39....      2\n",
       "4797      4797  all_imgs/9ab954c9-8f13-4270-9b66-e669169b1f4f....      3\n",
       "4798      4798  all_imgs/f41894e0-bed2-4b47-a8bc-2bab477d8ee7....      7\n",
       "4799      4799  all_imgs/d98e1059-0f69-460f-822b-f73e5a50804e....      1\n",
       "\n",
       "[4800 rows x 3 columns]"
      ]
     },
     "execution_count": 5,
     "metadata": {},
     "output_type": "execute_result"
    }
   ],
   "source": [
    "test_source = pd.read_csv(\"test.csv\")\n",
    "test_source"
   ]
  },
  {
   "cell_type": "markdown",
   "id": "cd316e8b",
   "metadata": {},
   "source": [
    "Tanto el dataset de train como el de test tienen una columna para el índice llamadas idx_train e idx_test, respectivamente.\n",
    "\n",
    "Al ser puramente eso, índices, y al ya haber uno por defecto para cada dataframe, se pueden eliminar usando la función *drop()*."
   ]
  },
  {
   "cell_type": "code",
   "execution_count": 6,
   "id": "f864621e",
   "metadata": {},
   "outputs": [
    {
     "data": {
      "text/html": [
       "<div>\n",
       "<style scoped>\n",
       "    .dataframe tbody tr th:only-of-type {\n",
       "        vertical-align: middle;\n",
       "    }\n",
       "\n",
       "    .dataframe tbody tr th {\n",
       "        vertical-align: top;\n",
       "    }\n",
       "\n",
       "    .dataframe thead th {\n",
       "        text-align: right;\n",
       "    }\n",
       "</style>\n",
       "<table border=\"1\" class=\"dataframe\">\n",
       "  <thead>\n",
       "    <tr style=\"text-align: right;\">\n",
       "      <th></th>\n",
       "      <th>path_img</th>\n",
       "      <th>label</th>\n",
       "    </tr>\n",
       "  </thead>\n",
       "  <tbody>\n",
       "    <tr>\n",
       "      <th>0</th>\n",
       "      <td>all_imgs/bc7696f4-1460-4d0b-a63d-f84b3be4da0f....</td>\n",
       "      <td>0</td>\n",
       "    </tr>\n",
       "    <tr>\n",
       "      <th>1</th>\n",
       "      <td>all_imgs/f8d50663-60d8-4da5-a8b8-79f954aec503....</td>\n",
       "      <td>2</td>\n",
       "    </tr>\n",
       "    <tr>\n",
       "      <th>2</th>\n",
       "      <td>all_imgs/51df0f29-758b-4741-ab74-a0ff8e21c044....</td>\n",
       "      <td>4</td>\n",
       "    </tr>\n",
       "    <tr>\n",
       "      <th>3</th>\n",
       "      <td>all_imgs/f61b81d3-3b79-4162-b4d6-4f1b39518c4c....</td>\n",
       "      <td>0</td>\n",
       "    </tr>\n",
       "    <tr>\n",
       "      <th>4</th>\n",
       "      <td>all_imgs/b21e0668-bd09-4794-9e90-da8ecffc4c1c....</td>\n",
       "      <td>0</td>\n",
       "    </tr>\n",
       "    <tr>\n",
       "      <th>...</th>\n",
       "      <td>...</td>\n",
       "      <td>...</td>\n",
       "    </tr>\n",
       "    <tr>\n",
       "      <th>11195</th>\n",
       "      <td>all_imgs/b834c3fa-4fb0-4e38-ae32-7fd4a4141fe6....</td>\n",
       "      <td>2</td>\n",
       "    </tr>\n",
       "    <tr>\n",
       "      <th>11196</th>\n",
       "      <td>all_imgs/b93165ab-a87d-4ee1-8360-9b9728a3fc4b....</td>\n",
       "      <td>6</td>\n",
       "    </tr>\n",
       "    <tr>\n",
       "      <th>11197</th>\n",
       "      <td>all_imgs/a130fcbb-2b90-4922-b1e2-4770fddf6b91....</td>\n",
       "      <td>5</td>\n",
       "    </tr>\n",
       "    <tr>\n",
       "      <th>11198</th>\n",
       "      <td>all_imgs/bf402d68-ca0b-47f2-86f9-6e81d4bdbb38....</td>\n",
       "      <td>7</td>\n",
       "    </tr>\n",
       "    <tr>\n",
       "      <th>11199</th>\n",
       "      <td>all_imgs/a609a4a1-bd42-4053-9de7-5e94a812425b....</td>\n",
       "      <td>0</td>\n",
       "    </tr>\n",
       "  </tbody>\n",
       "</table>\n",
       "<p>11200 rows × 2 columns</p>\n",
       "</div>"
      ],
      "text/plain": [
       "                                                path_img  label\n",
       "0      all_imgs/bc7696f4-1460-4d0b-a63d-f84b3be4da0f....      0\n",
       "1      all_imgs/f8d50663-60d8-4da5-a8b8-79f954aec503....      2\n",
       "2      all_imgs/51df0f29-758b-4741-ab74-a0ff8e21c044....      4\n",
       "3      all_imgs/f61b81d3-3b79-4162-b4d6-4f1b39518c4c....      0\n",
       "4      all_imgs/b21e0668-bd09-4794-9e90-da8ecffc4c1c....      0\n",
       "...                                                  ...    ...\n",
       "11195  all_imgs/b834c3fa-4fb0-4e38-ae32-7fd4a4141fe6....      2\n",
       "11196  all_imgs/b93165ab-a87d-4ee1-8360-9b9728a3fc4b....      6\n",
       "11197  all_imgs/a130fcbb-2b90-4922-b1e2-4770fddf6b91....      5\n",
       "11198  all_imgs/bf402d68-ca0b-47f2-86f9-6e81d4bdbb38....      7\n",
       "11199  all_imgs/a609a4a1-bd42-4053-9de7-5e94a812425b....      0\n",
       "\n",
       "[11200 rows x 2 columns]"
      ]
     },
     "execution_count": 6,
     "metadata": {},
     "output_type": "execute_result"
    }
   ],
   "source": [
    "train = train_source.drop(\"idx_train\", axis = 1)\n",
    "train"
   ]
  },
  {
   "cell_type": "code",
   "execution_count": 7,
   "id": "7d71c2cf",
   "metadata": {},
   "outputs": [
    {
     "data": {
      "text/html": [
       "<div>\n",
       "<style scoped>\n",
       "    .dataframe tbody tr th:only-of-type {\n",
       "        vertical-align: middle;\n",
       "    }\n",
       "\n",
       "    .dataframe tbody tr th {\n",
       "        vertical-align: top;\n",
       "    }\n",
       "\n",
       "    .dataframe thead th {\n",
       "        text-align: right;\n",
       "    }\n",
       "</style>\n",
       "<table border=\"1\" class=\"dataframe\">\n",
       "  <thead>\n",
       "    <tr style=\"text-align: right;\">\n",
       "      <th></th>\n",
       "      <th>path_img</th>\n",
       "      <th>label</th>\n",
       "    </tr>\n",
       "  </thead>\n",
       "  <tbody>\n",
       "    <tr>\n",
       "      <th>0</th>\n",
       "      <td>all_imgs/ec4c75ba-e064-4ed0-a7b1-3ed899424110....</td>\n",
       "      <td>6</td>\n",
       "    </tr>\n",
       "    <tr>\n",
       "      <th>1</th>\n",
       "      <td>all_imgs/114fb94d-3223-4d95-b6d1-f6a6ac206ea2....</td>\n",
       "      <td>2</td>\n",
       "    </tr>\n",
       "    <tr>\n",
       "      <th>2</th>\n",
       "      <td>all_imgs/a80e7e27-a25a-40aa-a65c-a29bfa172b3d....</td>\n",
       "      <td>6</td>\n",
       "    </tr>\n",
       "    <tr>\n",
       "      <th>3</th>\n",
       "      <td>all_imgs/7848d24e-207a-4236-9cd7-df78122d8787....</td>\n",
       "      <td>6</td>\n",
       "    </tr>\n",
       "    <tr>\n",
       "      <th>4</th>\n",
       "      <td>all_imgs/57f726bc-d141-42fb-88fa-60d554499277....</td>\n",
       "      <td>5</td>\n",
       "    </tr>\n",
       "    <tr>\n",
       "      <th>...</th>\n",
       "      <td>...</td>\n",
       "      <td>...</td>\n",
       "    </tr>\n",
       "    <tr>\n",
       "      <th>4795</th>\n",
       "      <td>all_imgs/5ad5bee4-c18b-48b7-921a-f10ee9a17ad1....</td>\n",
       "      <td>1</td>\n",
       "    </tr>\n",
       "    <tr>\n",
       "      <th>4796</th>\n",
       "      <td>all_imgs/99ec9e46-6bff-463c-af86-6b38aecb9a39....</td>\n",
       "      <td>2</td>\n",
       "    </tr>\n",
       "    <tr>\n",
       "      <th>4797</th>\n",
       "      <td>all_imgs/9ab954c9-8f13-4270-9b66-e669169b1f4f....</td>\n",
       "      <td>3</td>\n",
       "    </tr>\n",
       "    <tr>\n",
       "      <th>4798</th>\n",
       "      <td>all_imgs/f41894e0-bed2-4b47-a8bc-2bab477d8ee7....</td>\n",
       "      <td>7</td>\n",
       "    </tr>\n",
       "    <tr>\n",
       "      <th>4799</th>\n",
       "      <td>all_imgs/d98e1059-0f69-460f-822b-f73e5a50804e....</td>\n",
       "      <td>1</td>\n",
       "    </tr>\n",
       "  </tbody>\n",
       "</table>\n",
       "<p>4800 rows × 2 columns</p>\n",
       "</div>"
      ],
      "text/plain": [
       "                                               path_img  label\n",
       "0     all_imgs/ec4c75ba-e064-4ed0-a7b1-3ed899424110....      6\n",
       "1     all_imgs/114fb94d-3223-4d95-b6d1-f6a6ac206ea2....      2\n",
       "2     all_imgs/a80e7e27-a25a-40aa-a65c-a29bfa172b3d....      6\n",
       "3     all_imgs/7848d24e-207a-4236-9cd7-df78122d8787....      6\n",
       "4     all_imgs/57f726bc-d141-42fb-88fa-60d554499277....      5\n",
       "...                                                 ...    ...\n",
       "4795  all_imgs/5ad5bee4-c18b-48b7-921a-f10ee9a17ad1....      1\n",
       "4796  all_imgs/99ec9e46-6bff-463c-af86-6b38aecb9a39....      2\n",
       "4797  all_imgs/9ab954c9-8f13-4270-9b66-e669169b1f4f....      3\n",
       "4798  all_imgs/f41894e0-bed2-4b47-a8bc-2bab477d8ee7....      7\n",
       "4799  all_imgs/d98e1059-0f69-460f-822b-f73e5a50804e....      1\n",
       "\n",
       "[4800 rows x 2 columns]"
      ]
     },
     "execution_count": 7,
     "metadata": {},
     "output_type": "execute_result"
    }
   ],
   "source": [
    "test = test_source.drop(\"idx_test\", axis = 1)\n",
    "test"
   ]
  },
  {
   "cell_type": "markdown",
   "id": "8a318c0d",
   "metadata": {},
   "source": [
    "Se comprueba que no haya datos nulos en ninguna columna de ambos datasets usando *isnull().sum()*, lo cual devolverá la cantidad de nulos en cada una de las columnas."
   ]
  },
  {
   "cell_type": "code",
   "execution_count": 8,
   "id": "fdcb98b8",
   "metadata": {},
   "outputs": [
    {
     "data": {
      "text/plain": [
       "path_img    0\n",
       "label       0\n",
       "dtype: int64"
      ]
     },
     "execution_count": 8,
     "metadata": {},
     "output_type": "execute_result"
    }
   ],
   "source": [
    "train.isnull().sum()"
   ]
  },
  {
   "cell_type": "code",
   "execution_count": 9,
   "id": "d3e383ce",
   "metadata": {},
   "outputs": [
    {
     "data": {
      "text/plain": [
       "path_img    0\n",
       "label       0\n",
       "dtype: int64"
      ]
     },
     "execution_count": 9,
     "metadata": {},
     "output_type": "execute_result"
    }
   ],
   "source": [
    "test.isnull().sum()"
   ]
  },
  {
   "cell_type": "markdown",
   "id": "43f484ed",
   "metadata": {},
   "source": [
    "Tras comprobar que no hay nulos, se procederá a investigar más acerca del atributo \"label\", el cual será la etiqueta a predecir para cada una de las imágenes cuyas rutas están guardadas en la columna \"path_img\"."
   ]
  },
  {
   "cell_type": "code",
   "execution_count": 8,
   "id": "da7bc636",
   "metadata": {},
   "outputs": [
    {
     "data": {
      "text/plain": [
       "array([0, 2, 4, 7, 5, 1, 6, 3], dtype=int64)"
      ]
     },
     "execution_count": 8,
     "metadata": {},
     "output_type": "execute_result"
    }
   ],
   "source": [
    "train.label.unique()"
   ]
  },
  {
   "cell_type": "markdown",
   "id": "01c8478f",
   "metadata": {},
   "source": [
    "Se puede observar que hay un total de 8 categorías distintas para la label. Tras investigar un poco más al explorar el contenido de las imágenes se ha podido deducir que el siguiente es el significado interpretado para cada una de las categorías:\n",
    "- 0 ~> Hamburguesas\n",
    "- 1 ~> Alitas de pollo\n",
    "- 2 ~> Donuts\n",
    "- 3 ~> Patatas fritas\n",
    "- 4 ~> Perritos calientes\n",
    "- 5 ~> Pizzas\n",
    "- 6 ~> Sándwiches\n",
    "- 7 ~> Patatas asadas\n",
    "\n",
    "Esta interpretación es solamente para entender las categorías. No se realizará un mapeo de las mismas puesto que la entrega deberá tener el mismo formato para los target que los datasets iniciales.\n",
    "\n",
    "#### Red neuronal\n",
    "Para la red neuronal se utilizará la librería de TensorFlow, usando su módulo de Keras para crear un modelo de predicción de imágenes."
   ]
  },
  {
   "cell_type": "code",
   "execution_count": 12,
   "id": "d12bba1e",
   "metadata": {},
   "outputs": [
    {
     "name": "stderr",
     "output_type": "stream",
     "text": [
      "c:\\Users\\crist\\AppData\\Local\\Programs\\Python\\Python36\\lib\\site-packages\\google\\auth\\crypt\\_cryptography_rsa.py:22: CryptographyDeprecationWarning: Python 3.6 is no longer supported by the Python core team. Therefore, support for it is deprecated in cryptography and will be removed in a future release.\n",
      "  import cryptography.exceptions\n"
     ]
    }
   ],
   "source": [
    "import tensorflow as tf\n",
    "from tensorflow.keras.models import Sequential\n",
    "from tensorflow.keras.layers import Conv2D, MaxPooling2D, Flatten, Dense"
   ]
  },
  {
   "cell_type": "markdown",
   "id": "54f9477d",
   "metadata": {},
   "source": [
    "Se crea la red neuronal y se van añadiendo las diferentes capas que la compondrán."
   ]
  },
  {
   "cell_type": "code",
   "execution_count": 17,
   "id": "5c7610ed",
   "metadata": {},
   "outputs": [],
   "source": [
    "model = Sequential()\n",
    "model.add(Conv2D(32, (3, 3), activation='relu', input_shape=(64, 64, 3)))\n",
    "model.add(Flatten())\n",
    "model.add(Dense(1, activation='sigmoid'))"
   ]
  },
  {
   "cell_type": "code",
   "execution_count": 18,
   "id": "9afa2aa8",
   "metadata": {},
   "outputs": [],
   "source": [
    "model.compile(loss='binary_crossentropy', optimizer='adam', metrics=['accuracy'])"
   ]
  },
  {
   "cell_type": "markdown",
   "id": "6a12e987",
   "metadata": {},
   "source": [
    "Definimos la variable predictora de train, x (\"path_img\"); y la variable a predecir, y (\"label\")."
   ]
  },
  {
   "cell_type": "code",
   "execution_count": 11,
   "id": "af2c6eeb",
   "metadata": {},
   "outputs": [],
   "source": [
    "x_train = train[\"path_img\"]\n",
    "y_train = train[\"label\"]"
   ]
  },
  {
   "cell_type": "markdown",
   "id": "db0adc3d",
   "metadata": {},
   "source": [
    "Se entrena el modelo con el conjunto de entrenamiento."
   ]
  },
  {
   "cell_type": "code",
   "execution_count": 19,
   "id": "6c87300b",
   "metadata": {},
   "outputs": [
    {
     "name": "stdout",
     "output_type": "stream",
     "text": [
      "Epoch 1/10\n",
      "WARNING:tensorflow:Model was constructed with shape (None, 64, 64, 3) for input KerasTensor(type_spec=TensorSpec(shape=(None, 64, 64, 3), dtype=tf.float32, name='conv2d_2_input'), name='conv2d_2_input', description=\"created by layer 'conv2d_2_input'\"), but it was called on an input with incompatible shape (32, 1).\n"
     ]
    },
    {
     "ename": "ValueError",
     "evalue": "in user code:\n\n    File \"C:\\Users\\pablo\\anaconda3\\lib\\site-packages\\keras\\engine\\training.py\", line 1249, in train_function  *\n        return step_function(self, iterator)\n    File \"C:\\Users\\pablo\\anaconda3\\lib\\site-packages\\keras\\engine\\training.py\", line 1233, in step_function  **\n        outputs = model.distribute_strategy.run(run_step, args=(data,))\n    File \"C:\\Users\\pablo\\anaconda3\\lib\\site-packages\\keras\\engine\\training.py\", line 1222, in run_step  **\n        outputs = model.train_step(data)\n    File \"C:\\Users\\pablo\\anaconda3\\lib\\site-packages\\keras\\engine\\training.py\", line 1023, in train_step\n        y_pred = self(x, training=True)\n    File \"C:\\Users\\pablo\\anaconda3\\lib\\site-packages\\keras\\utils\\traceback_utils.py\", line 70, in error_handler\n        raise e.with_traceback(filtered_tb) from None\n    File \"C:\\Users\\pablo\\anaconda3\\lib\\site-packages\\keras\\engine\\input_spec.py\", line 250, in assert_input_compatibility\n        raise ValueError(\n\n    ValueError: Exception encountered when calling layer 'sequential_1' (type Sequential).\n    \n    Input 0 of layer \"conv2d_2\" is incompatible with the layer: expected min_ndim=4, found ndim=2. Full shape received: (32, 1)\n    \n    Call arguments received by layer 'sequential_1' (type Sequential):\n      • inputs=tf.Tensor(shape=(32, 1), dtype=string)\n      • training=True\n      • mask=None\n",
     "output_type": "error",
     "traceback": [
      "\u001b[1;31m---------------------------------------------------------------------------\u001b[0m",
      "\u001b[1;31mValueError\u001b[0m                                Traceback (most recent call last)",
      "Input \u001b[1;32mIn [19]\u001b[0m, in \u001b[0;36m<cell line: 1>\u001b[1;34m()\u001b[0m\n\u001b[1;32m----> 1\u001b[0m \u001b[43mmodel\u001b[49m\u001b[38;5;241;43m.\u001b[39;49m\u001b[43mfit\u001b[49m\u001b[43m(\u001b[49m\u001b[43mx_train\u001b[49m\u001b[43m,\u001b[49m\u001b[43m \u001b[49m\u001b[43my_train\u001b[49m\u001b[43m,\u001b[49m\u001b[43m \u001b[49m\u001b[43mepochs\u001b[49m\u001b[38;5;241;43m=\u001b[39;49m\u001b[38;5;241;43m10\u001b[39;49m\u001b[43m,\u001b[49m\u001b[43m \u001b[49m\u001b[43mbatch_size\u001b[49m\u001b[38;5;241;43m=\u001b[39;49m\u001b[38;5;241;43m32\u001b[39;49m\u001b[43m)\u001b[49m\n",
      "File \u001b[1;32m~\\anaconda3\\lib\\site-packages\\keras\\utils\\traceback_utils.py:70\u001b[0m, in \u001b[0;36mfilter_traceback.<locals>.error_handler\u001b[1;34m(*args, **kwargs)\u001b[0m\n\u001b[0;32m     67\u001b[0m     filtered_tb \u001b[38;5;241m=\u001b[39m _process_traceback_frames(e\u001b[38;5;241m.\u001b[39m__traceback__)\n\u001b[0;32m     68\u001b[0m     \u001b[38;5;66;03m# To get the full stack trace, call:\u001b[39;00m\n\u001b[0;32m     69\u001b[0m     \u001b[38;5;66;03m# `tf.debugging.disable_traceback_filtering()`\u001b[39;00m\n\u001b[1;32m---> 70\u001b[0m     \u001b[38;5;28;01mraise\u001b[39;00m e\u001b[38;5;241m.\u001b[39mwith_traceback(filtered_tb) \u001b[38;5;28;01mfrom\u001b[39;00m \u001b[38;5;28mNone\u001b[39m\n\u001b[0;32m     71\u001b[0m \u001b[38;5;28;01mfinally\u001b[39;00m:\n\u001b[0;32m     72\u001b[0m     \u001b[38;5;28;01mdel\u001b[39;00m filtered_tb\n",
      "File \u001b[1;32m~\\AppData\\Local\\Temp\\__autograph_generated_fileb9zj3q4f.py:15\u001b[0m, in \u001b[0;36mouter_factory.<locals>.inner_factory.<locals>.tf__train_function\u001b[1;34m(iterator)\u001b[0m\n\u001b[0;32m     13\u001b[0m \u001b[38;5;28;01mtry\u001b[39;00m:\n\u001b[0;32m     14\u001b[0m     do_return \u001b[38;5;241m=\u001b[39m \u001b[38;5;28;01mTrue\u001b[39;00m\n\u001b[1;32m---> 15\u001b[0m     retval_ \u001b[38;5;241m=\u001b[39m ag__\u001b[38;5;241m.\u001b[39mconverted_call(ag__\u001b[38;5;241m.\u001b[39mld(step_function), (ag__\u001b[38;5;241m.\u001b[39mld(\u001b[38;5;28mself\u001b[39m), ag__\u001b[38;5;241m.\u001b[39mld(iterator)), \u001b[38;5;28;01mNone\u001b[39;00m, fscope)\n\u001b[0;32m     16\u001b[0m \u001b[38;5;28;01mexcept\u001b[39;00m:\n\u001b[0;32m     17\u001b[0m     do_return \u001b[38;5;241m=\u001b[39m \u001b[38;5;28;01mFalse\u001b[39;00m\n",
      "\u001b[1;31mValueError\u001b[0m: in user code:\n\n    File \"C:\\Users\\pablo\\anaconda3\\lib\\site-packages\\keras\\engine\\training.py\", line 1249, in train_function  *\n        return step_function(self, iterator)\n    File \"C:\\Users\\pablo\\anaconda3\\lib\\site-packages\\keras\\engine\\training.py\", line 1233, in step_function  **\n        outputs = model.distribute_strategy.run(run_step, args=(data,))\n    File \"C:\\Users\\pablo\\anaconda3\\lib\\site-packages\\keras\\engine\\training.py\", line 1222, in run_step  **\n        outputs = model.train_step(data)\n    File \"C:\\Users\\pablo\\anaconda3\\lib\\site-packages\\keras\\engine\\training.py\", line 1023, in train_step\n        y_pred = self(x, training=True)\n    File \"C:\\Users\\pablo\\anaconda3\\lib\\site-packages\\keras\\utils\\traceback_utils.py\", line 70, in error_handler\n        raise e.with_traceback(filtered_tb) from None\n    File \"C:\\Users\\pablo\\anaconda3\\lib\\site-packages\\keras\\engine\\input_spec.py\", line 250, in assert_input_compatibility\n        raise ValueError(\n\n    ValueError: Exception encountered when calling layer 'sequential_1' (type Sequential).\n    \n    Input 0 of layer \"conv2d_2\" is incompatible with the layer: expected min_ndim=4, found ndim=2. Full shape received: (32, 1)\n    \n    Call arguments received by layer 'sequential_1' (type Sequential):\n      • inputs=tf.Tensor(shape=(32, 1), dtype=string)\n      • training=True\n      • mask=None\n"
     ]
    }
   ],
   "source": [
    "model.fit(x_train, y_train, epochs=10, batch_size=32)"
   ]
  },
  {
   "cell_type": "code",
   "execution_count": 16,
   "id": "4703df45",
   "metadata": {},
   "outputs": [],
   "source": [
    "x_test = test[\"path_img\"]\n",
    "y_test = test[\"label\"]"
   ]
  },
  {
   "cell_type": "code",
   "execution_count": null,
   "id": "d2b219b7",
   "metadata": {},
   "outputs": [],
   "source": [
    "score = model.evaluate(x_test, y_test)\n",
    "print('Test loss:', score[0])\n",
    "print('Test accuracy:', score[1])"
   ]
  }
 ],
 "metadata": {
  "kernelspec": {
   "display_name": "Python 3 (ipykernel)",
   "language": "python",
   "name": "python3"
  },
  "language_info": {
   "codemirror_mode": {
    "name": "ipython",
    "version": 3
   },
   "file_extension": ".py",
   "mimetype": "text/x-python",
   "name": "python",
   "nbconvert_exporter": "python",
   "pygments_lexer": "ipython3",
   "version": "3.6.8"
  }
 },
 "nbformat": 4,
 "nbformat_minor": 5
}
