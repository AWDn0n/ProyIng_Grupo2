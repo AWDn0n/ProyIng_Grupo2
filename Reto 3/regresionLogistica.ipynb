{
 "cells": [
  {
   "cell_type": "code",
   "execution_count": 89,
   "metadata": {},
   "outputs": [],
   "source": [
    "import pandas as pd\n",
    "from sklearn.model_selection import train_test_split\n",
    "from sklearn.linear_model import LogisticRegression\n",
    "from sklearn.preprocessing import OrdinalEncoder\n",
    "from sklearn.metrics import accuracy_score, f1_score\n",
    "\n",
    "# read datasets\n",
    "train_source = pd.read_csv(\"./data/train_cleaned.csv\")\n",
    "test_source = pd.read_csv(\"./data/testing_set.csv\")\n",
    "\n",
    "# remove the columns that are not needed: train_idx, valid, Time, outlier and valid2 columns\n",
    "train = train_source.drop(['train_idx', 'valid', 'outlier', 'valid2'], axis=1)\n",
    "test = test_source.drop(['test_idx'], axis=1)\n",
    "\n",
    "# Preprocess the Time column using OrdinalEncoder\n",
    "time_encoder = OrdinalEncoder(handle_unknown='use_encoded_value', unknown_value=-1)\n",
    "train['Time'] = time_encoder.fit_transform(train[['Time']])\n",
    "test['Time'] = time_encoder.transform(test[['Time']])\n",
    "# transform the Time column to integer\n",
    "train['Time'] = train['Time'].astype(int)\n",
    "test['Time'] = test['Time'].astype(int)\n",
    "\n",
    "# Separate the features and the target variable in the train dataset\n",
    "X_train = train.drop('label', axis=1)\n",
    "y_train = train['label']\n",
    "\n",
    "# Create a logistic regression model\n",
    "model = LogisticRegression()\n",
    "\n",
    "# Train the model\n",
    "model.fit(X_train, y_train)\n",
    "\n",
    "# Predict on the test set\n",
    "y_pred = model.predict(test)\n"
   ]
  },
  {
   "cell_type": "code",
   "execution_count": 90,
   "metadata": {},
   "outputs": [],
   "source": [
    "import json\n",
    "# Create a new dictionary with the desired structure\n",
    "json_data = {\"target\": {str(k): v for k, v in zip(pred_df[\"test_idx\"], pred_df[\"label\"])}} \n",
    "\n",
    "# Convert the dictionary to a JSON string\n",
    "json_string = json.dumps(json_data)\n",
    "\n",
    "# export the JSON string to a file\n",
    "with open(\"./data/predsLR.json\", \"w\") as f:\n",
    "    f.write(json_string)"
   ]
  },
  {
   "cell_type": "code",
   "execution_count": null,
   "metadata": {},
   "outputs": [],
   "source": []
  }
 ],
 "metadata": {
  "kernelspec": {
   "display_name": "Python 3",
   "language": "python",
   "name": "python3"
  },
  "language_info": {
   "codemirror_mode": {
    "name": "ipython",
    "version": 3
   },
   "file_extension": ".py",
   "mimetype": "text/x-python",
   "name": "python",
   "nbconvert_exporter": "python",
   "pygments_lexer": "ipython3",
   "version": "3.10.6"
  },
  "orig_nbformat": 4
 },
 "nbformat": 4,
 "nbformat_minor": 2
}
