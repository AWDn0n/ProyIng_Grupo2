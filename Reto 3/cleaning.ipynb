{
 "cells": [
  {
   "attachments": {},
   "cell_type": "markdown",
   "metadata": {},
   "source": [
    "# IMPORT LIBRARIES"
   ]
  },
  {
   "cell_type": "code",
   "execution_count": 81,
   "metadata": {},
   "outputs": [],
   "source": [
    "import pandas as pd\n",
    "import numpy as np\n",
    "import matplotlib.pyplot as plt"
   ]
  },
  {
   "attachments": {},
   "cell_type": "markdown",
   "metadata": {},
   "source": [
    "# IMPORT DATA"
   ]
  },
  {
   "cell_type": "code",
   "execution_count": 82,
   "metadata": {},
   "outputs": [],
   "source": [
    "# read the datasets\n",
    "train_source = pd.read_csv('./data/training_set.csv')\n",
    "test_source = pd.read_csv('./data/testing_set.csv')"
   ]
  },
  {
   "cell_type": "code",
   "execution_count": 83,
   "metadata": {},
   "outputs": [
    {
     "data": {
      "text/plain": [
       "((3509, 8), (1500, 7))"
      ]
     },
     "execution_count": 83,
     "metadata": {},
     "output_type": "execute_result"
    }
   ],
   "source": [
    "# see the size of the datasets\n",
    "train_source.shape, test_source.shape"
   ]
  },
  {
   "cell_type": "code",
   "execution_count": 84,
   "metadata": {},
   "outputs": [
    {
     "data": {
      "text/html": [
       "<div>\n",
       "<style scoped>\n",
       "    .dataframe tbody tr th:only-of-type {\n",
       "        vertical-align: middle;\n",
       "    }\n",
       "\n",
       "    .dataframe tbody tr th {\n",
       "        vertical-align: top;\n",
       "    }\n",
       "\n",
       "    .dataframe thead th {\n",
       "        text-align: right;\n",
       "    }\n",
       "</style>\n",
       "<table border=\"1\" class=\"dataframe\">\n",
       "  <thead>\n",
       "    <tr style=\"text-align: right;\">\n",
       "      <th></th>\n",
       "      <th>train_idx</th>\n",
       "      <th>Time</th>\n",
       "      <th>Open</th>\n",
       "      <th>High</th>\n",
       "      <th>Low</th>\n",
       "      <th>Close</th>\n",
       "      <th>Volume</th>\n",
       "      <th>label</th>\n",
       "    </tr>\n",
       "  </thead>\n",
       "  <tbody>\n",
       "    <tr>\n",
       "      <th>0</th>\n",
       "      <td>0</td>\n",
       "      <td>2007-03-07 00:00:00</td>\n",
       "      <td>1.31258</td>\n",
       "      <td>1.31844</td>\n",
       "      <td>1.31086</td>\n",
       "      <td>1.31648</td>\n",
       "      <td>1807377.0</td>\n",
       "      <td>0</td>\n",
       "    </tr>\n",
       "    <tr>\n",
       "      <th>1</th>\n",
       "      <td>1</td>\n",
       "      <td>2007-03-08 00:00:00</td>\n",
       "      <td>1.31667</td>\n",
       "      <td>1.31813</td>\n",
       "      <td>1.31154</td>\n",
       "      <td>1.31396</td>\n",
       "      <td>1995920.0</td>\n",
       "      <td>1</td>\n",
       "    </tr>\n",
       "    <tr>\n",
       "      <th>2</th>\n",
       "      <td>2</td>\n",
       "      <td>2007-03-09 00:00:00</td>\n",
       "      <td>1.31396</td>\n",
       "      <td>1.31583</td>\n",
       "      <td>1.30864</td>\n",
       "      <td>1.31118</td>\n",
       "      <td>1859100.0</td>\n",
       "      <td>1</td>\n",
       "    </tr>\n",
       "    <tr>\n",
       "      <th>3</th>\n",
       "      <td>3</td>\n",
       "      <td>2007-03-11 00:00:00</td>\n",
       "      <td>1.31236</td>\n",
       "      <td>1.31415</td>\n",
       "      <td>1.31068</td>\n",
       "      <td>1.31175</td>\n",
       "      <td>192381.0</td>\n",
       "      <td>1</td>\n",
       "    </tr>\n",
       "    <tr>\n",
       "      <th>4</th>\n",
       "      <td>4</td>\n",
       "      <td>2007-03-12 00:00:00</td>\n",
       "      <td>1.31193</td>\n",
       "      <td>1.31992</td>\n",
       "      <td>1.31054</td>\n",
       "      <td>7.90878</td>\n",
       "      <td>2009286.0</td>\n",
       "      <td>1</td>\n",
       "    </tr>\n",
       "  </tbody>\n",
       "</table>\n",
       "</div>"
      ],
      "text/plain": [
       "   train_idx                 Time     Open     High      Low    Close  \\\n",
       "0          0  2007-03-07 00:00:00  1.31258  1.31844  1.31086  1.31648   \n",
       "1          1  2007-03-08 00:00:00  1.31667  1.31813  1.31154  1.31396   \n",
       "2          2  2007-03-09 00:00:00  1.31396  1.31583  1.30864  1.31118   \n",
       "3          3  2007-03-11 00:00:00  1.31236  1.31415  1.31068  1.31175   \n",
       "4          4  2007-03-12 00:00:00  1.31193  1.31992  1.31054  7.90878   \n",
       "\n",
       "      Volume  label  \n",
       "0  1807377.0      0  \n",
       "1  1995920.0      1  \n",
       "2  1859100.0      1  \n",
       "3   192381.0      1  \n",
       "4  2009286.0      1  "
      ]
     },
     "execution_count": 84,
     "metadata": {},
     "output_type": "execute_result"
    }
   ],
   "source": [
    "train_source.head()"
   ]
  },
  {
   "cell_type": "code",
   "execution_count": 85,
   "metadata": {},
   "outputs": [
    {
     "data": {
      "text/html": [
       "<div>\n",
       "<style scoped>\n",
       "    .dataframe tbody tr th:only-of-type {\n",
       "        vertical-align: middle;\n",
       "    }\n",
       "\n",
       "    .dataframe tbody tr th {\n",
       "        vertical-align: top;\n",
       "    }\n",
       "\n",
       "    .dataframe thead th {\n",
       "        text-align: right;\n",
       "    }\n",
       "</style>\n",
       "<table border=\"1\" class=\"dataframe\">\n",
       "  <thead>\n",
       "    <tr style=\"text-align: right;\">\n",
       "      <th></th>\n",
       "      <th>test_idx</th>\n",
       "      <th>Time</th>\n",
       "      <th>Open</th>\n",
       "      <th>High</th>\n",
       "      <th>Low</th>\n",
       "      <th>Close</th>\n",
       "      <th>Volume</th>\n",
       "    </tr>\n",
       "  </thead>\n",
       "  <tbody>\n",
       "    <tr>\n",
       "      <th>0</th>\n",
       "      <td>0</td>\n",
       "      <td>2018-05-29 00:00:00</td>\n",
       "      <td>1.16271</td>\n",
       "      <td>1.16394</td>\n",
       "      <td>1.15099</td>\n",
       "      <td>1.15343</td>\n",
       "      <td>336090</td>\n",
       "    </tr>\n",
       "    <tr>\n",
       "      <th>1</th>\n",
       "      <td>1</td>\n",
       "      <td>2018-05-30 00:00:00</td>\n",
       "      <td>1.15342</td>\n",
       "      <td>1.16759</td>\n",
       "      <td>1.15186</td>\n",
       "      <td>1.16627</td>\n",
       "      <td>318421</td>\n",
       "    </tr>\n",
       "    <tr>\n",
       "      <th>2</th>\n",
       "      <td>2</td>\n",
       "      <td>2018-05-31 00:00:00</td>\n",
       "      <td>1.16627</td>\n",
       "      <td>1.17243</td>\n",
       "      <td>1.16410</td>\n",
       "      <td>1.16938</td>\n",
       "      <td>285788</td>\n",
       "    </tr>\n",
       "    <tr>\n",
       "      <th>3</th>\n",
       "      <td>3</td>\n",
       "      <td>2018-06-01 00:00:00</td>\n",
       "      <td>1.16937</td>\n",
       "      <td>1.17178</td>\n",
       "      <td>1.16170</td>\n",
       "      <td>1.16584</td>\n",
       "      <td>253533</td>\n",
       "    </tr>\n",
       "    <tr>\n",
       "      <th>4</th>\n",
       "      <td>4</td>\n",
       "      <td>2018-06-03 00:00:00</td>\n",
       "      <td>1.16561</td>\n",
       "      <td>1.16794</td>\n",
       "      <td>1.16561</td>\n",
       "      <td>1.16757</td>\n",
       "      <td>14803</td>\n",
       "    </tr>\n",
       "  </tbody>\n",
       "</table>\n",
       "</div>"
      ],
      "text/plain": [
       "   test_idx                 Time     Open     High      Low    Close  Volume\n",
       "0         0  2018-05-29 00:00:00  1.16271  1.16394  1.15099  1.15343  336090\n",
       "1         1  2018-05-30 00:00:00  1.15342  1.16759  1.15186  1.16627  318421\n",
       "2         2  2018-05-31 00:00:00  1.16627  1.17243  1.16410  1.16938  285788\n",
       "3         3  2018-06-01 00:00:00  1.16937  1.17178  1.16170  1.16584  253533\n",
       "4         4  2018-06-03 00:00:00  1.16561  1.16794  1.16561  1.16757   14803"
      ]
     },
     "execution_count": 85,
     "metadata": {},
     "output_type": "execute_result"
    }
   ],
   "source": [
    "test_source.head()"
   ]
  },
  {
   "cell_type": "code",
   "execution_count": 86,
   "metadata": {},
   "outputs": [
    {
     "data": {
      "text/html": [
       "<div>\n",
       "<style scoped>\n",
       "    .dataframe tbody tr th:only-of-type {\n",
       "        vertical-align: middle;\n",
       "    }\n",
       "\n",
       "    .dataframe tbody tr th {\n",
       "        vertical-align: top;\n",
       "    }\n",
       "\n",
       "    .dataframe thead th {\n",
       "        text-align: right;\n",
       "    }\n",
       "</style>\n",
       "<table border=\"1\" class=\"dataframe\">\n",
       "  <thead>\n",
       "    <tr style=\"text-align: right;\">\n",
       "      <th></th>\n",
       "      <th>train_idx</th>\n",
       "      <th>Open</th>\n",
       "      <th>High</th>\n",
       "      <th>Low</th>\n",
       "      <th>Close</th>\n",
       "      <th>Volume</th>\n",
       "      <th>label</th>\n",
       "    </tr>\n",
       "  </thead>\n",
       "  <tbody>\n",
       "    <tr>\n",
       "      <th>count</th>\n",
       "      <td>3509.000000</td>\n",
       "      <td>3491.000000</td>\n",
       "      <td>3453.000000</td>\n",
       "      <td>3442.000000</td>\n",
       "      <td>3470.000000</td>\n",
       "      <td>3.481000e+03</td>\n",
       "      <td>3509.000000</td>\n",
       "    </tr>\n",
       "    <tr>\n",
       "      <th>mean</th>\n",
       "      <td>1754.000000</td>\n",
       "      <td>1.315917</td>\n",
       "      <td>1.308379</td>\n",
       "      <td>1.298522</td>\n",
       "      <td>1.309465</td>\n",
       "      <td>2.793843e+05</td>\n",
       "      <td>0.499858</td>\n",
       "    </tr>\n",
       "    <tr>\n",
       "      <th>std</th>\n",
       "      <td>1013.105375</td>\n",
       "      <td>0.463695</td>\n",
       "      <td>0.361848</td>\n",
       "      <td>0.367142</td>\n",
       "      <td>0.406838</td>\n",
       "      <td>2.995125e+05</td>\n",
       "      <td>0.500071</td>\n",
       "    </tr>\n",
       "    <tr>\n",
       "      <th>min</th>\n",
       "      <td>0.000000</td>\n",
       "      <td>0.136331</td>\n",
       "      <td>0.133119</td>\n",
       "      <td>0.133926</td>\n",
       "      <td>0.132743</td>\n",
       "      <td>4.970000e+02</td>\n",
       "      <td>0.000000</td>\n",
       "    </tr>\n",
       "    <tr>\n",
       "      <th>25%</th>\n",
       "      <td>877.000000</td>\n",
       "      <td>1.181970</td>\n",
       "      <td>1.184600</td>\n",
       "      <td>1.176797</td>\n",
       "      <td>1.181277</td>\n",
       "      <td>8.122800e+04</td>\n",
       "      <td>0.000000</td>\n",
       "    </tr>\n",
       "    <tr>\n",
       "      <th>50%</th>\n",
       "      <td>1754.000000</td>\n",
       "      <td>1.313140</td>\n",
       "      <td>1.318720</td>\n",
       "      <td>1.307255</td>\n",
       "      <td>1.313005</td>\n",
       "      <td>1.912090e+05</td>\n",
       "      <td>0.000000</td>\n",
       "    </tr>\n",
       "    <tr>\n",
       "      <th>75%</th>\n",
       "      <td>2631.000000</td>\n",
       "      <td>1.376900</td>\n",
       "      <td>1.381560</td>\n",
       "      <td>1.372110</td>\n",
       "      <td>1.376593</td>\n",
       "      <td>2.699740e+05</td>\n",
       "      <td>1.000000</td>\n",
       "    </tr>\n",
       "    <tr>\n",
       "      <th>max</th>\n",
       "      <td>3508.000000</td>\n",
       "      <td>12.604500</td>\n",
       "      <td>11.522790</td>\n",
       "      <td>10.871280</td>\n",
       "      <td>10.877040</td>\n",
       "      <td>2.693602e+06</td>\n",
       "      <td>1.000000</td>\n",
       "    </tr>\n",
       "  </tbody>\n",
       "</table>\n",
       "</div>"
      ],
      "text/plain": [
       "         train_idx         Open         High          Low        Close  \\\n",
       "count  3509.000000  3491.000000  3453.000000  3442.000000  3470.000000   \n",
       "mean   1754.000000     1.315917     1.308379     1.298522     1.309465   \n",
       "std    1013.105375     0.463695     0.361848     0.367142     0.406838   \n",
       "min       0.000000     0.136331     0.133119     0.133926     0.132743   \n",
       "25%     877.000000     1.181970     1.184600     1.176797     1.181277   \n",
       "50%    1754.000000     1.313140     1.318720     1.307255     1.313005   \n",
       "75%    2631.000000     1.376900     1.381560     1.372110     1.376593   \n",
       "max    3508.000000    12.604500    11.522790    10.871280    10.877040   \n",
       "\n",
       "             Volume        label  \n",
       "count  3.481000e+03  3509.000000  \n",
       "mean   2.793843e+05     0.499858  \n",
       "std    2.995125e+05     0.500071  \n",
       "min    4.970000e+02     0.000000  \n",
       "25%    8.122800e+04     0.000000  \n",
       "50%    1.912090e+05     0.000000  \n",
       "75%    2.699740e+05     1.000000  \n",
       "max    2.693602e+06     1.000000  "
      ]
     },
     "execution_count": 86,
     "metadata": {},
     "output_type": "execute_result"
    }
   ],
   "source": [
    "train_source.describe()"
   ]
  },
  {
   "cell_type": "code",
   "execution_count": 87,
   "metadata": {},
   "outputs": [
    {
     "data": {
      "text/html": [
       "<div>\n",
       "<style scoped>\n",
       "    .dataframe tbody tr th:only-of-type {\n",
       "        vertical-align: middle;\n",
       "    }\n",
       "\n",
       "    .dataframe tbody tr th {\n",
       "        vertical-align: top;\n",
       "    }\n",
       "\n",
       "    .dataframe thead th {\n",
       "        text-align: right;\n",
       "    }\n",
       "</style>\n",
       "<table border=\"1\" class=\"dataframe\">\n",
       "  <thead>\n",
       "    <tr style=\"text-align: right;\">\n",
       "      <th></th>\n",
       "      <th>test_idx</th>\n",
       "      <th>Open</th>\n",
       "      <th>High</th>\n",
       "      <th>Low</th>\n",
       "      <th>Close</th>\n",
       "      <th>Volume</th>\n",
       "    </tr>\n",
       "  </thead>\n",
       "  <tbody>\n",
       "    <tr>\n",
       "      <th>count</th>\n",
       "      <td>1500.000000</td>\n",
       "      <td>1500.000000</td>\n",
       "      <td>1500.000000</td>\n",
       "      <td>1500.000000</td>\n",
       "      <td>1500.000000</td>\n",
       "      <td>1.500000e+03</td>\n",
       "    </tr>\n",
       "    <tr>\n",
       "      <th>mean</th>\n",
       "      <td>749.500000</td>\n",
       "      <td>1.125877</td>\n",
       "      <td>1.129278</td>\n",
       "      <td>1.122566</td>\n",
       "      <td>1.125837</td>\n",
       "      <td>2.374014e+05</td>\n",
       "    </tr>\n",
       "    <tr>\n",
       "      <th>std</th>\n",
       "      <td>433.157015</td>\n",
       "      <td>0.056683</td>\n",
       "      <td>0.056129</td>\n",
       "      <td>0.057152</td>\n",
       "      <td>0.056673</td>\n",
       "      <td>2.305794e+05</td>\n",
       "    </tr>\n",
       "    <tr>\n",
       "      <th>min</th>\n",
       "      <td>0.000000</td>\n",
       "      <td>0.956940</td>\n",
       "      <td>0.967070</td>\n",
       "      <td>0.953570</td>\n",
       "      <td>0.956880</td>\n",
       "      <td>2.343000e+03</td>\n",
       "    </tr>\n",
       "    <tr>\n",
       "      <th>25%</th>\n",
       "      <td>374.750000</td>\n",
       "      <td>1.095598</td>\n",
       "      <td>1.099522</td>\n",
       "      <td>1.092465</td>\n",
       "      <td>1.095330</td>\n",
       "      <td>8.010825e+04</td>\n",
       "    </tr>\n",
       "    <tr>\n",
       "      <th>50%</th>\n",
       "      <td>749.500000</td>\n",
       "      <td>1.130070</td>\n",
       "      <td>1.133030</td>\n",
       "      <td>1.126825</td>\n",
       "      <td>1.129860</td>\n",
       "      <td>1.947670e+05</td>\n",
       "    </tr>\n",
       "    <tr>\n",
       "      <th>75%</th>\n",
       "      <td>1124.250000</td>\n",
       "      <td>1.169507</td>\n",
       "      <td>1.173942</td>\n",
       "      <td>1.166930</td>\n",
       "      <td>1.169610</td>\n",
       "      <td>3.249358e+05</td>\n",
       "    </tr>\n",
       "    <tr>\n",
       "      <th>max</th>\n",
       "      <td>1499.000000</td>\n",
       "      <td>1.233240</td>\n",
       "      <td>1.234940</td>\n",
       "      <td>1.226550</td>\n",
       "      <td>1.233240</td>\n",
       "      <td>2.997191e+06</td>\n",
       "    </tr>\n",
       "  </tbody>\n",
       "</table>\n",
       "</div>"
      ],
      "text/plain": [
       "          test_idx         Open         High          Low        Close  \\\n",
       "count  1500.000000  1500.000000  1500.000000  1500.000000  1500.000000   \n",
       "mean    749.500000     1.125877     1.129278     1.122566     1.125837   \n",
       "std     433.157015     0.056683     0.056129     0.057152     0.056673   \n",
       "min       0.000000     0.956940     0.967070     0.953570     0.956880   \n",
       "25%     374.750000     1.095598     1.099522     1.092465     1.095330   \n",
       "50%     749.500000     1.130070     1.133030     1.126825     1.129860   \n",
       "75%    1124.250000     1.169507     1.173942     1.166930     1.169610   \n",
       "max    1499.000000     1.233240     1.234940     1.226550     1.233240   \n",
       "\n",
       "             Volume  \n",
       "count  1.500000e+03  \n",
       "mean   2.374014e+05  \n",
       "std    2.305794e+05  \n",
       "min    2.343000e+03  \n",
       "25%    8.010825e+04  \n",
       "50%    1.947670e+05  \n",
       "75%    3.249358e+05  \n",
       "max    2.997191e+06  "
      ]
     },
     "execution_count": 87,
     "metadata": {},
     "output_type": "execute_result"
    }
   ],
   "source": [
    "test_source.describe()"
   ]
  },
  {
   "cell_type": "code",
   "execution_count": 88,
   "metadata": {},
   "outputs": [
    {
     "name": "stdout",
     "output_type": "stream",
     "text": [
      "Train:  2007-03-07 00:00:00 2018-05-23 00:00:00\n",
      "Test:  2018-05-29 00:00:00 2023-03-14 00:00:00\n"
     ]
    }
   ],
   "source": [
    "# see the dates maximim and minimum of the train and test datasets\n",
    "print(\"Train: \", train_source[\"Time\"].min(), train_source[\"Time\"].max()) \n",
    "print(\"Test: \", test_source[\"Time\"].min(), test_source[\"Time\"].max()) "
   ]
  },
  {
   "attachments": {},
   "cell_type": "markdown",
   "metadata": {},
   "source": [
    "# DUPLICATES"
   ]
  },
  {
   "cell_type": "code",
   "execution_count": 89,
   "metadata": {},
   "outputs": [
    {
     "data": {
      "text/plain": [
       "0"
      ]
     },
     "execution_count": 89,
     "metadata": {},
     "output_type": "execute_result"
    }
   ],
   "source": [
    "# looking for duplicates\n",
    "train_source.duplicated().sum()"
   ]
  },
  {
   "cell_type": "code",
   "execution_count": 90,
   "metadata": {},
   "outputs": [
    {
     "data": {
      "text/plain": [
       "0"
      ]
     },
     "execution_count": 90,
     "metadata": {},
     "output_type": "execute_result"
    }
   ],
   "source": [
    "test_source.duplicated().sum()"
   ]
  },
  {
   "attachments": {},
   "cell_type": "markdown",
   "metadata": {},
   "source": [
    "# NULL VALUES"
   ]
  },
  {
   "attachments": {},
   "cell_type": "markdown",
   "metadata": {},
   "source": [
    "Like we can see, there are missing values in several variables"
   ]
  },
  {
   "cell_type": "code",
   "execution_count": 91,
   "metadata": {},
   "outputs": [
    {
     "data": {
      "text/plain": [
       "train_idx     0\n",
       "Time          0\n",
       "Open         18\n",
       "High         56\n",
       "Low          67\n",
       "Close        39\n",
       "Volume       28\n",
       "label         0\n",
       "dtype: int64"
      ]
     },
     "execution_count": 91,
     "metadata": {},
     "output_type": "execute_result"
    }
   ],
   "source": [
    "# miramos si los datos tienen valores nulos\n",
    "train_source.isnull().sum()"
   ]
  },
  {
   "cell_type": "code",
   "execution_count": 92,
   "metadata": {},
   "outputs": [
    {
     "data": {
      "text/plain": [
       "train_idx    0.000000\n",
       "Time         0.000000\n",
       "Open         0.512967\n",
       "High         1.595896\n",
       "Low          1.909376\n",
       "Close        1.111428\n",
       "Volume       0.797948\n",
       "label        0.000000\n",
       "dtype: float64"
      ]
     },
     "execution_count": 92,
     "metadata": {},
     "output_type": "execute_result"
    }
   ],
   "source": [
    "# calculate the percentage of null values\n",
    "train_source.isnull().sum() / len(train_source) * 100"
   ]
  },
  {
   "attachments": {},
   "cell_type": "markdown",
   "metadata": {},
   "source": [
    "First we delete the rows with null values in the columns: \"Open\", \"High\", \"Low\", \"Close\", \"Volume\", if there´s any."
   ]
  },
  {
   "cell_type": "code",
   "execution_count": 93,
   "metadata": {},
   "outputs": [],
   "source": [
    "# delete the rows with null values in the columns: \"Open\", \"High\", \"Low\", \"Close\", \"Volume\"\n",
    "train = train_source.dropna(subset=[\"Open\", \"High\", \"Low\", \"Close\", \"Volume\"], how='all')"
   ]
  },
  {
   "cell_type": "code",
   "execution_count": 94,
   "metadata": {},
   "outputs": [
    {
     "data": {
      "text/plain": [
       "((3509, 8), (3509, 8))"
      ]
     },
     "execution_count": 94,
     "metadata": {},
     "output_type": "execute_result"
    }
   ],
   "source": [
    "# however there are no rows with the previous columns with null values\n",
    "train_source.shape, train.shape"
   ]
  },
  {
   "attachments": {},
   "cell_type": "markdown",
   "metadata": {},
   "source": [
    "**Now we must fill the missing values somehow**"
   ]
  },
  {
   "attachments": {},
   "cell_type": "markdown",
   "metadata": {},
   "source": [
    "Care must be taken with the look forward bias for imputation methods. *Look ahead bias* is a type of bias that occurs when a study or simulation relies on data or information that was not yet available or known during the time period being studied. It generally leads to inaccurate results from a study or simulation."
   ]
  },
  {
   "attachments": {},
   "cell_type": "markdown",
   "metadata": {},
   "source": [
    "One of the possible methods is interpolation, that assumes a linear relationship (or not lineal, depends on the relation between the variables) between data points and utilises non-missing values from adjacent data points (past and future) to compute a value for a missing data point. Therefore, we reject this method because of the use of look ahead bias.. For that reason we will look for a way to avoid it."
   ]
  },
  {
   "attachments": {},
   "cell_type": "markdown",
   "metadata": {},
   "source": [
    "Bearing the above mentioned in mind and the computational resources that we have, there can be several approaches to deal with the null values:\n",
    "\n",
    "1. Remove the null values.\n",
    "\n",
    "2. Fill the null values with the value of the previous day.\n",
    "\n",
    "3. Fill the null values with the total average or moving average.\n",
    "\n",
    "4. Fill in the null values by adding the value of the row with the average of the variation of the last 10 days. In other words, if we have a null value on December 11, we would calculate the average of the variations of the previous 10 days. That is, if December 1 has a value of 2, December 2 has a value of 3 and so on until the 10th, we have an average variation of 1 ((1+1+1+1+ 1+1+1+1+1+1)/10). Then we would add this variation to the value of row 11.\n",
    "This method could be useful due to the samll amount of missing values. However, it assumes that the data are stationary and that the variability of the data remains constant over time. It may not be suitable if the data have a trend or seasonality, as it may introduce biases in the imputation.\n",
    "\n",
    "5. Bayesian posterior consensus distribution that optimally controls the trade-off between look-ahead bias and variance in the imputation. Combine multiple plausible imputations using Bayesian model averaging. It only uses past information data.\n",
    "This method is more sophisticated and takes into account the uncertainty and prior knowledge in the data. It could be a good choice if the missing data are non-random and the patterns in the data can be modeled using a Bayesian approach. This method does not require future data and therefore, avoids look-ahead bias.\n",
    "\n",
    "6. Wasserstein Interpolation: interpolate probability distributions. The method seeks to find an intermediate distribution between two given distributions that minimizes the wasserstein distance, which measures the minimum **work** required to transform one distribution into the other.\n",
    "This method is suitable for continuous data and assumes that the data have a probabilistic structure. It could be a good choice if the missing data are non-random and the patterns in the data can be modeled using probability distributions (like the previous one). It neither require future data, avoiding look-ahead bias."
   ]
  },
  {
   "attachments": {},
   "cell_type": "markdown",
   "metadata": {},
   "source": [
    "For the ***Open*** and ***Close*** variables, it may make more sense to use method 4, which involves filling in the null values by adding the value of the row with the average of the variation of the last 10 days. This is because these variables are directly related to the start and end of a trading period, and using past information to fill in the missing values can help preserve the temporal structure of the data.\n",
    "\n",
    "\n",
    "On the other hand, the Bayesian posterior consensus and Wasserstein Interpolation methods are more suited for cases where the missing values are not as temporally dependent, and where incorporating prior knowledge and uncertainty may be more useful. For the ***High***, ***Low***, and ***Volume*** variables, these methods may be more appropriate, as they are not as directly tied to the start and end of a trading period, and incorporating uncertainty and prior knowledge can help fill in the missing values in a more robust and accurate manner.\n",
    "\n",
    "Like we can see on the scatter plot below between Time and High/Low, we have a narrow range of values (between 0 and 2) and a few outliers. Therefore the Bayesian method could be a suitable choice for imputing missing values on this columns. This is because the Bayesian method is known for its ability to handle small samples sizes and constrained data ranges, which are characteristics of the data. Additionally the Bayesian method can provide a posterior distribution that reflects the uncertainity in the imputed values, which can be useful for downstream analysis."
   ]
  },
  {
   "cell_type": "code",
   "execution_count": 95,
   "metadata": {},
   "outputs": [
    {
     "data": {
      "text/plain": [
       "<matplotlib.legend.Legend at 0x17870fe6290>"
      ]
     },
     "execution_count": 95,
     "metadata": {},
     "output_type": "execute_result"
    },
    {
     "data": {
      "image/png": "[encoded data removed]",
      "text/plain": [
       "<Figure size 640x480 with 1 Axes>"
      ]
     },
     "metadata": {},
     "output_type": "display_data"
    }
   ],
   "source": [
    "# do a scatter plot between the columns \"Time\" and \"High\" \n",
    "plt.scatter(train[\"Time\"], train[\"High\"]), plt.scatter(train[\"Time\"], train[\"Low\"])\n",
    "# incorporate the labels and title and legend\n",
    "plt.xlabel(\"Time\")\n",
    "plt.ylabel(\"Value\")\n",
    "plt.title(\"Time VS High and Low prices\")\n",
    "plt.legend([\"High\", \"Low\"])"
   ]
  },
  {
   "attachments": {},
   "cell_type": "markdown",
   "metadata": {},
   "source": [
    "Having chosen the third option for the columns ***Open*** and ***Close***, we will iterate over every row in the DataFrame, and for any row with a null value in the column, it will look at the previous 10 days values, ignore any null values, and calculate the average variation. It will then fill in the null value with the previous day's \"Open\" and \"Close\" value plus the average variation."
   ]
  },
  {
   "cell_type": "code",
   "execution_count": 96,
   "metadata": {},
   "outputs": [],
   "source": [
    "''' \n",
    "Function to fill especifically the null values of the columns \"Open\" and \"Close\" by calcultaing the average variation of the previous 10 days \n",
    "and adding it to the previous day value of the column\n",
    "'''\n",
    "def fill_na_with_variation(df, column):\n",
    "    for i in range(10, len(df)):\n",
    "        if pd.isna(df.loc[i, column]): # check if the value is null\n",
    "            previous = df.loc[i-10:i-1, column] # get the previous 10 values\n",
    "            previous_not_null = previous[~previous.isnull()] # get the previous values that are not null\n",
    "            if not previous_not_null.empty: # check if there are previous values that are not null\n",
    "                avg_variation = (previous_not_null.diff().mean(skipna=True)) # calculate the average variation\n",
    "                df.loc[i, column] = df.loc[i-1, column] + avg_variation # fill the null value with the previous value plus the average variation\n",
    "            else: # if the previous 10 days has also null values\n",
    "                df.loc[i, column] = df.loc[i-1, column] # fill the null value with the previous value\n",
    "    return df"
   ]
  },
  {
   "cell_type": "code",
   "execution_count": 97,
   "metadata": {},
   "outputs": [],
   "source": [
    "train_cleaned = fill_na_with_variation(train, \"Open\")\n",
    "train_cleaned = fill_na_with_variation(train_cleaned, \"Close\")"
   ]
  },
  {
   "cell_type": "code",
   "execution_count": 98,
   "metadata": {},
   "outputs": [
    {
     "data": {
      "text/plain": [
       "train_idx     0\n",
       "Time          0\n",
       "Open          0\n",
       "High         56\n",
       "Low          67\n",
       "Close         0\n",
       "Volume       28\n",
       "label         0\n",
       "dtype: int64"
      ]
     },
     "execution_count": 98,
     "metadata": {},
     "output_type": "execute_result"
    }
   ],
   "source": [
    "train_cleaned.isnull().sum()"
   ]
  },
  {
   "attachments": {},
   "cell_type": "markdown",
   "metadata": {},
   "source": [
    "As we mentioned above for the ***High*** and ***Low*** columns we will use the Bayesian method."
   ]
  },
  {
   "cell_type": "code",
   "execution_count": 99,
   "metadata": {},
   "outputs": [],
   "source": [
    "from sklearn.linear_model import BayesianRidge\n",
    "from sklearn.impute import SimpleImputer\n",
    "\n",
    "# Select the columns to fill null values in\n",
    "cols_to_impute = ['High', 'Low', \"Volume\"]\n",
    "\n",
    "# Create a Bayesian Ridge model and a SimpleImputer instance\n",
    "model = BayesianRidge()\n",
    "imputer = SimpleImputer(strategy='mean')\n",
    "\n",
    "# Fit the imputer on the training data\n",
    "imputer.fit(train_cleaned[cols_to_impute])\n",
    "\n",
    "# Transform the training data to fill null values\n",
    "train_cleaned[cols_to_impute] = imputer.transform(train_cleaned[cols_to_impute])"
   ]
  },
  {
   "cell_type": "code",
   "execution_count": 100,
   "metadata": {},
   "outputs": [
    {
     "data": {
      "text/plain": [
       "train_idx    0\n",
       "Time         0\n",
       "Open         0\n",
       "High         0\n",
       "Low          0\n",
       "Close        0\n",
       "Volume       0\n",
       "label        0\n",
       "dtype: int64"
      ]
     },
     "execution_count": 100,
     "metadata": {},
     "output_type": "execute_result"
    }
   ],
   "source": [
    "train_cleaned.isnull().sum()"
   ]
  },
  {
   "attachments": {},
   "cell_type": "markdown",
   "metadata": {},
   "source": [
    "The **test** dataset does not have null values"
   ]
  },
  {
   "cell_type": "code",
   "execution_count": 101,
   "metadata": {},
   "outputs": [
    {
     "data": {
      "text/plain": [
       "test_idx    0\n",
       "Time        0\n",
       "Open        0\n",
       "High        0\n",
       "Low         0\n",
       "Close       0\n",
       "Volume      0\n",
       "dtype: int64"
      ]
     },
     "execution_count": 101,
     "metadata": {},
     "output_type": "execute_result"
    }
   ],
   "source": [
    "test_source.isnull().sum()"
   ]
  },
  {
   "attachments": {},
   "cell_type": "markdown",
   "metadata": {},
   "source": [
    "# OUTLIERS"
   ]
  },
  {
   "cell_type": "code",
   "execution_count": 14,
   "metadata": {},
   "outputs": [],
   "source": [
    "# miramos si los datos tiene valores atípicos con gráficos\n"
   ]
  },
  {
   "attachments": {},
   "cell_type": "markdown",
   "metadata": {},
   "source": [
    "# REFERENCES\n",
    "\n",
    "* [What is Look-ahead Bias?](https://corporatefinanceinstitute.com/resources/capital-markets/look-ahead-bias/#:~:text=What%20is%20Look%2Dahead%20Bias,from%20a%20study%20or%20simulation.)\n",
    "* [Interpolation calculation made ez](https://www.lexjansen.com/nesug/nesug01/ps/ps8026.pdf)\n",
    "* [Forward Filtering Backwards Sampling (FFBS) and Look-Ahead Bias](https://stats.stackexchange.com/questions/110944/forward-filtering-backwards-sampling-ffbs-and-look-ahead-bias)\n",
    "* [Time-Series Imputation with Wasserstein Interpolation for Optimal Look-Ahead-Bias and Variance Tradeoff](https://arxiv.org/abs/2102.12736)\n",
    "* [Time-Series Imputation with Wasserstein Interpolation for Optimal Look-Ahead-Bias and Variance Trade](https://www.madrasresearch.org/post/time-series-imputation-with-wasserstein-interpolation-for-optimal-look-ahead-bias-and-variance-trade)"
   ]
  }
 ],
 "metadata": {
  "kernelspec": {
   "display_name": "env",
   "language": "python",
   "name": "python3"
  },
  "language_info": {
   "codemirror_mode": {
    "name": "ipython",
    "version": 3
   },
   "file_extension": ".py",
   "mimetype": "text/x-python",
   "name": "python",
   "nbconvert_exporter": "python",
   "pygments_lexer": "ipython3",
   "version": "3.10.6"
  },
  "orig_nbformat": 4
 },
 "nbformat": 4,
 "nbformat_minor": 2
}
