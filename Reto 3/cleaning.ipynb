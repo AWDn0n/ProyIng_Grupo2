{
 "cells": [
  {
   "attachments": {},
   "cell_type": "markdown",
   "metadata": {},
   "source": [
    "# IMPORT LIBRARIES"
   ]
  },
  {
   "cell_type": "code",
   "execution_count": 2,
   "metadata": {},
   "outputs": [],
   "source": [
    "import pandas as pd\n",
    "import numpy as np"
   ]
  },
  {
   "attachments": {},
   "cell_type": "markdown",
   "metadata": {},
   "source": [
    "# IMPORT DATA"
   ]
  },
  {
   "cell_type": "code",
   "execution_count": 24,
   "metadata": {},
   "outputs": [],
   "source": [
    "# read the datasets\n",
    "train_source = pd.read_csv('./data/training_set.csv')\n",
    "test_source = pd.read_csv('./data/testing_set.csv')"
   ]
  },
  {
   "cell_type": "code",
   "execution_count": 25,
   "metadata": {},
   "outputs": [
    {
     "data": {
      "text/plain": [
       "((3509, 8), (1500, 7))"
      ]
     },
     "execution_count": 25,
     "metadata": {},
     "output_type": "execute_result"
    }
   ],
   "source": [
    "# see the size of the datasets\n",
    "train_source.shape, test_source.shape"
   ]
  },
  {
   "cell_type": "code",
   "execution_count": 26,
   "metadata": {},
   "outputs": [
    {
     "data": {
      "text/html": [
       "<div>\n",
       "<style scoped>\n",
       "    .dataframe tbody tr th:only-of-type {\n",
       "        vertical-align: middle;\n",
       "    }\n",
       "\n",
       "    .dataframe tbody tr th {\n",
       "        vertical-align: top;\n",
       "    }\n",
       "\n",
       "    .dataframe thead th {\n",
       "        text-align: right;\n",
       "    }\n",
       "</style>\n",
       "<table border=\"1\" class=\"dataframe\">\n",
       "  <thead>\n",
       "    <tr style=\"text-align: right;\">\n",
       "      <th></th>\n",
       "      <th>train_idx</th>\n",
       "      <th>Time</th>\n",
       "      <th>Open</th>\n",
       "      <th>High</th>\n",
       "      <th>Low</th>\n",
       "      <th>Close</th>\n",
       "      <th>Volume</th>\n",
       "      <th>label</th>\n",
       "    </tr>\n",
       "  </thead>\n",
       "  <tbody>\n",
       "    <tr>\n",
       "      <th>0</th>\n",
       "      <td>0</td>\n",
       "      <td>2007-03-07 00:00:00</td>\n",
       "      <td>1.31258</td>\n",
       "      <td>1.31844</td>\n",
       "      <td>1.31086</td>\n",
       "      <td>1.31648</td>\n",
       "      <td>1807377.0</td>\n",
       "      <td>0</td>\n",
       "    </tr>\n",
       "    <tr>\n",
       "      <th>1</th>\n",
       "      <td>1</td>\n",
       "      <td>2007-03-08 00:00:00</td>\n",
       "      <td>1.31667</td>\n",
       "      <td>1.31813</td>\n",
       "      <td>1.31154</td>\n",
       "      <td>1.31396</td>\n",
       "      <td>1995920.0</td>\n",
       "      <td>1</td>\n",
       "    </tr>\n",
       "    <tr>\n",
       "      <th>2</th>\n",
       "      <td>2</td>\n",
       "      <td>2007-03-09 00:00:00</td>\n",
       "      <td>1.31396</td>\n",
       "      <td>1.31583</td>\n",
       "      <td>1.30864</td>\n",
       "      <td>1.31118</td>\n",
       "      <td>1859100.0</td>\n",
       "      <td>1</td>\n",
       "    </tr>\n",
       "    <tr>\n",
       "      <th>3</th>\n",
       "      <td>3</td>\n",
       "      <td>2007-03-11 00:00:00</td>\n",
       "      <td>1.31236</td>\n",
       "      <td>1.31415</td>\n",
       "      <td>1.31068</td>\n",
       "      <td>1.31175</td>\n",
       "      <td>192381.0</td>\n",
       "      <td>1</td>\n",
       "    </tr>\n",
       "    <tr>\n",
       "      <th>4</th>\n",
       "      <td>4</td>\n",
       "      <td>2007-03-12 00:00:00</td>\n",
       "      <td>1.31193</td>\n",
       "      <td>1.31992</td>\n",
       "      <td>1.31054</td>\n",
       "      <td>7.90878</td>\n",
       "      <td>2009286.0</td>\n",
       "      <td>1</td>\n",
       "    </tr>\n",
       "  </tbody>\n",
       "</table>\n",
       "</div>"
      ],
      "text/plain": [
       "   train_idx                 Time     Open     High      Low    Close  \\\n",
       "0          0  2007-03-07 00:00:00  1.31258  1.31844  1.31086  1.31648   \n",
       "1          1  2007-03-08 00:00:00  1.31667  1.31813  1.31154  1.31396   \n",
       "2          2  2007-03-09 00:00:00  1.31396  1.31583  1.30864  1.31118   \n",
       "3          3  2007-03-11 00:00:00  1.31236  1.31415  1.31068  1.31175   \n",
       "4          4  2007-03-12 00:00:00  1.31193  1.31992  1.31054  7.90878   \n",
       "\n",
       "      Volume  label  \n",
       "0  1807377.0      0  \n",
       "1  1995920.0      1  \n",
       "2  1859100.0      1  \n",
       "3   192381.0      1  \n",
       "4  2009286.0      1  "
      ]
     },
     "execution_count": 26,
     "metadata": {},
     "output_type": "execute_result"
    }
   ],
   "source": [
    "train_source.head()"
   ]
  },
  {
   "cell_type": "code",
   "execution_count": 27,
   "metadata": {},
   "outputs": [
    {
     "data": {
      "text/html": [
       "<div>\n",
       "<style scoped>\n",
       "    .dataframe tbody tr th:only-of-type {\n",
       "        vertical-align: middle;\n",
       "    }\n",
       "\n",
       "    .dataframe tbody tr th {\n",
       "        vertical-align: top;\n",
       "    }\n",
       "\n",
       "    .dataframe thead th {\n",
       "        text-align: right;\n",
       "    }\n",
       "</style>\n",
       "<table border=\"1\" class=\"dataframe\">\n",
       "  <thead>\n",
       "    <tr style=\"text-align: right;\">\n",
       "      <th></th>\n",
       "      <th>test_idx</th>\n",
       "      <th>Time</th>\n",
       "      <th>Open</th>\n",
       "      <th>High</th>\n",
       "      <th>Low</th>\n",
       "      <th>Close</th>\n",
       "      <th>Volume</th>\n",
       "    </tr>\n",
       "  </thead>\n",
       "  <tbody>\n",
       "    <tr>\n",
       "      <th>0</th>\n",
       "      <td>0</td>\n",
       "      <td>2018-05-29 00:00:00</td>\n",
       "      <td>1.16271</td>\n",
       "      <td>1.16394</td>\n",
       "      <td>1.15099</td>\n",
       "      <td>1.15343</td>\n",
       "      <td>336090</td>\n",
       "    </tr>\n",
       "    <tr>\n",
       "      <th>1</th>\n",
       "      <td>1</td>\n",
       "      <td>2018-05-30 00:00:00</td>\n",
       "      <td>1.15342</td>\n",
       "      <td>1.16759</td>\n",
       "      <td>1.15186</td>\n",
       "      <td>1.16627</td>\n",
       "      <td>318421</td>\n",
       "    </tr>\n",
       "    <tr>\n",
       "      <th>2</th>\n",
       "      <td>2</td>\n",
       "      <td>2018-05-31 00:00:00</td>\n",
       "      <td>1.16627</td>\n",
       "      <td>1.17243</td>\n",
       "      <td>1.16410</td>\n",
       "      <td>1.16938</td>\n",
       "      <td>285788</td>\n",
       "    </tr>\n",
       "    <tr>\n",
       "      <th>3</th>\n",
       "      <td>3</td>\n",
       "      <td>2018-06-01 00:00:00</td>\n",
       "      <td>1.16937</td>\n",
       "      <td>1.17178</td>\n",
       "      <td>1.16170</td>\n",
       "      <td>1.16584</td>\n",
       "      <td>253533</td>\n",
       "    </tr>\n",
       "    <tr>\n",
       "      <th>4</th>\n",
       "      <td>4</td>\n",
       "      <td>2018-06-03 00:00:00</td>\n",
       "      <td>1.16561</td>\n",
       "      <td>1.16794</td>\n",
       "      <td>1.16561</td>\n",
       "      <td>1.16757</td>\n",
       "      <td>14803</td>\n",
       "    </tr>\n",
       "  </tbody>\n",
       "</table>\n",
       "</div>"
      ],
      "text/plain": [
       "   test_idx                 Time     Open     High      Low    Close  Volume\n",
       "0         0  2018-05-29 00:00:00  1.16271  1.16394  1.15099  1.15343  336090\n",
       "1         1  2018-05-30 00:00:00  1.15342  1.16759  1.15186  1.16627  318421\n",
       "2         2  2018-05-31 00:00:00  1.16627  1.17243  1.16410  1.16938  285788\n",
       "3         3  2018-06-01 00:00:00  1.16937  1.17178  1.16170  1.16584  253533\n",
       "4         4  2018-06-03 00:00:00  1.16561  1.16794  1.16561  1.16757   14803"
      ]
     },
     "execution_count": 27,
     "metadata": {},
     "output_type": "execute_result"
    }
   ],
   "source": [
    "test_source.head()"
   ]
  },
  {
   "cell_type": "code",
   "execution_count": 28,
   "metadata": {},
   "outputs": [
    {
     "data": {
      "text/html": [
       "<div>\n",
       "<style scoped>\n",
       "    .dataframe tbody tr th:only-of-type {\n",
       "        vertical-align: middle;\n",
       "    }\n",
       "\n",
       "    .dataframe tbody tr th {\n",
       "        vertical-align: top;\n",
       "    }\n",
       "\n",
       "    .dataframe thead th {\n",
       "        text-align: right;\n",
       "    }\n",
       "</style>\n",
       "<table border=\"1\" class=\"dataframe\">\n",
       "  <thead>\n",
       "    <tr style=\"text-align: right;\">\n",
       "      <th></th>\n",
       "      <th>train_idx</th>\n",
       "      <th>Open</th>\n",
       "      <th>High</th>\n",
       "      <th>Low</th>\n",
       "      <th>Close</th>\n",
       "      <th>Volume</th>\n",
       "      <th>label</th>\n",
       "    </tr>\n",
       "  </thead>\n",
       "  <tbody>\n",
       "    <tr>\n",
       "      <th>count</th>\n",
       "      <td>3509.000000</td>\n",
       "      <td>3491.000000</td>\n",
       "      <td>3453.000000</td>\n",
       "      <td>3442.000000</td>\n",
       "      <td>3470.000000</td>\n",
       "      <td>3.481000e+03</td>\n",
       "      <td>3509.000000</td>\n",
       "    </tr>\n",
       "    <tr>\n",
       "      <th>mean</th>\n",
       "      <td>1754.000000</td>\n",
       "      <td>1.315917</td>\n",
       "      <td>1.308379</td>\n",
       "      <td>1.298522</td>\n",
       "      <td>1.309465</td>\n",
       "      <td>2.793843e+05</td>\n",
       "      <td>0.499858</td>\n",
       "    </tr>\n",
       "    <tr>\n",
       "      <th>std</th>\n",
       "      <td>1013.105375</td>\n",
       "      <td>0.463695</td>\n",
       "      <td>0.361848</td>\n",
       "      <td>0.367142</td>\n",
       "      <td>0.406838</td>\n",
       "      <td>2.995125e+05</td>\n",
       "      <td>0.500071</td>\n",
       "    </tr>\n",
       "    <tr>\n",
       "      <th>min</th>\n",
       "      <td>0.000000</td>\n",
       "      <td>0.136331</td>\n",
       "      <td>0.133119</td>\n",
       "      <td>0.133926</td>\n",
       "      <td>0.132743</td>\n",
       "      <td>4.970000e+02</td>\n",
       "      <td>0.000000</td>\n",
       "    </tr>\n",
       "    <tr>\n",
       "      <th>25%</th>\n",
       "      <td>877.000000</td>\n",
       "      <td>1.181970</td>\n",
       "      <td>1.184600</td>\n",
       "      <td>1.176797</td>\n",
       "      <td>1.181277</td>\n",
       "      <td>8.122800e+04</td>\n",
       "      <td>0.000000</td>\n",
       "    </tr>\n",
       "    <tr>\n",
       "      <th>50%</th>\n",
       "      <td>1754.000000</td>\n",
       "      <td>1.313140</td>\n",
       "      <td>1.318720</td>\n",
       "      <td>1.307255</td>\n",
       "      <td>1.313005</td>\n",
       "      <td>1.912090e+05</td>\n",
       "      <td>0.000000</td>\n",
       "    </tr>\n",
       "    <tr>\n",
       "      <th>75%</th>\n",
       "      <td>2631.000000</td>\n",
       "      <td>1.376900</td>\n",
       "      <td>1.381560</td>\n",
       "      <td>1.372110</td>\n",
       "      <td>1.376593</td>\n",
       "      <td>2.699740e+05</td>\n",
       "      <td>1.000000</td>\n",
       "    </tr>\n",
       "    <tr>\n",
       "      <th>max</th>\n",
       "      <td>3508.000000</td>\n",
       "      <td>12.604500</td>\n",
       "      <td>11.522790</td>\n",
       "      <td>10.871280</td>\n",
       "      <td>10.877040</td>\n",
       "      <td>2.693602e+06</td>\n",
       "      <td>1.000000</td>\n",
       "    </tr>\n",
       "  </tbody>\n",
       "</table>\n",
       "</div>"
      ],
      "text/plain": [
       "         train_idx         Open         High          Low        Close  \\\n",
       "count  3509.000000  3491.000000  3453.000000  3442.000000  3470.000000   \n",
       "mean   1754.000000     1.315917     1.308379     1.298522     1.309465   \n",
       "std    1013.105375     0.463695     0.361848     0.367142     0.406838   \n",
       "min       0.000000     0.136331     0.133119     0.133926     0.132743   \n",
       "25%     877.000000     1.181970     1.184600     1.176797     1.181277   \n",
       "50%    1754.000000     1.313140     1.318720     1.307255     1.313005   \n",
       "75%    2631.000000     1.376900     1.381560     1.372110     1.376593   \n",
       "max    3508.000000    12.604500    11.522790    10.871280    10.877040   \n",
       "\n",
       "             Volume        label  \n",
       "count  3.481000e+03  3509.000000  \n",
       "mean   2.793843e+05     0.499858  \n",
       "std    2.995125e+05     0.500071  \n",
       "min    4.970000e+02     0.000000  \n",
       "25%    8.122800e+04     0.000000  \n",
       "50%    1.912090e+05     0.000000  \n",
       "75%    2.699740e+05     1.000000  \n",
       "max    2.693602e+06     1.000000  "
      ]
     },
     "execution_count": 28,
     "metadata": {},
     "output_type": "execute_result"
    }
   ],
   "source": [
    "train_source.describe()"
   ]
  },
  {
   "cell_type": "code",
   "execution_count": 29,
   "metadata": {},
   "outputs": [
    {
     "data": {
      "text/html": [
       "<div>\n",
       "<style scoped>\n",
       "    .dataframe tbody tr th:only-of-type {\n",
       "        vertical-align: middle;\n",
       "    }\n",
       "\n",
       "    .dataframe tbody tr th {\n",
       "        vertical-align: top;\n",
       "    }\n",
       "\n",
       "    .dataframe thead th {\n",
       "        text-align: right;\n",
       "    }\n",
       "</style>\n",
       "<table border=\"1\" class=\"dataframe\">\n",
       "  <thead>\n",
       "    <tr style=\"text-align: right;\">\n",
       "      <th></th>\n",
       "      <th>test_idx</th>\n",
       "      <th>Open</th>\n",
       "      <th>High</th>\n",
       "      <th>Low</th>\n",
       "      <th>Close</th>\n",
       "      <th>Volume</th>\n",
       "    </tr>\n",
       "  </thead>\n",
       "  <tbody>\n",
       "    <tr>\n",
       "      <th>count</th>\n",
       "      <td>1500.000000</td>\n",
       "      <td>1500.000000</td>\n",
       "      <td>1500.000000</td>\n",
       "      <td>1500.000000</td>\n",
       "      <td>1500.000000</td>\n",
       "      <td>1.500000e+03</td>\n",
       "    </tr>\n",
       "    <tr>\n",
       "      <th>mean</th>\n",
       "      <td>749.500000</td>\n",
       "      <td>1.125877</td>\n",
       "      <td>1.129278</td>\n",
       "      <td>1.122566</td>\n",
       "      <td>1.125837</td>\n",
       "      <td>2.374014e+05</td>\n",
       "    </tr>\n",
       "    <tr>\n",
       "      <th>std</th>\n",
       "      <td>433.157015</td>\n",
       "      <td>0.056683</td>\n",
       "      <td>0.056129</td>\n",
       "      <td>0.057152</td>\n",
       "      <td>0.056673</td>\n",
       "      <td>2.305794e+05</td>\n",
       "    </tr>\n",
       "    <tr>\n",
       "      <th>min</th>\n",
       "      <td>0.000000</td>\n",
       "      <td>0.956940</td>\n",
       "      <td>0.967070</td>\n",
       "      <td>0.953570</td>\n",
       "      <td>0.956880</td>\n",
       "      <td>2.343000e+03</td>\n",
       "    </tr>\n",
       "    <tr>\n",
       "      <th>25%</th>\n",
       "      <td>374.750000</td>\n",
       "      <td>1.095598</td>\n",
       "      <td>1.099522</td>\n",
       "      <td>1.092465</td>\n",
       "      <td>1.095330</td>\n",
       "      <td>8.010825e+04</td>\n",
       "    </tr>\n",
       "    <tr>\n",
       "      <th>50%</th>\n",
       "      <td>749.500000</td>\n",
       "      <td>1.130070</td>\n",
       "      <td>1.133030</td>\n",
       "      <td>1.126825</td>\n",
       "      <td>1.129860</td>\n",
       "      <td>1.947670e+05</td>\n",
       "    </tr>\n",
       "    <tr>\n",
       "      <th>75%</th>\n",
       "      <td>1124.250000</td>\n",
       "      <td>1.169507</td>\n",
       "      <td>1.173942</td>\n",
       "      <td>1.166930</td>\n",
       "      <td>1.169610</td>\n",
       "      <td>3.249358e+05</td>\n",
       "    </tr>\n",
       "    <tr>\n",
       "      <th>max</th>\n",
       "      <td>1499.000000</td>\n",
       "      <td>1.233240</td>\n",
       "      <td>1.234940</td>\n",
       "      <td>1.226550</td>\n",
       "      <td>1.233240</td>\n",
       "      <td>2.997191e+06</td>\n",
       "    </tr>\n",
       "  </tbody>\n",
       "</table>\n",
       "</div>"
      ],
      "text/plain": [
       "          test_idx         Open         High          Low        Close  \\\n",
       "count  1500.000000  1500.000000  1500.000000  1500.000000  1500.000000   \n",
       "mean    749.500000     1.125877     1.129278     1.122566     1.125837   \n",
       "std     433.157015     0.056683     0.056129     0.057152     0.056673   \n",
       "min       0.000000     0.956940     0.967070     0.953570     0.956880   \n",
       "25%     374.750000     1.095598     1.099522     1.092465     1.095330   \n",
       "50%     749.500000     1.130070     1.133030     1.126825     1.129860   \n",
       "75%    1124.250000     1.169507     1.173942     1.166930     1.169610   \n",
       "max    1499.000000     1.233240     1.234940     1.226550     1.233240   \n",
       "\n",
       "             Volume  \n",
       "count  1.500000e+03  \n",
       "mean   2.374014e+05  \n",
       "std    2.305794e+05  \n",
       "min    2.343000e+03  \n",
       "25%    8.010825e+04  \n",
       "50%    1.947670e+05  \n",
       "75%    3.249358e+05  \n",
       "max    2.997191e+06  "
      ]
     },
     "execution_count": 29,
     "metadata": {},
     "output_type": "execute_result"
    }
   ],
   "source": [
    "test_source.describe()"
   ]
  },
  {
   "cell_type": "code",
   "execution_count": 30,
   "metadata": {},
   "outputs": [
    {
     "name": "stdout",
     "output_type": "stream",
     "text": [
      "Train:  2007-03-07 00:00:00 2018-05-23 00:00:00\n",
      "Test:  2018-05-29 00:00:00 2023-03-14 00:00:00\n"
     ]
    }
   ],
   "source": [
    "# see the dates maximim and minimum of the train and test datasets\n",
    "print(\"Train: \", train_source[\"Time\"].min(), train_source[\"Time\"].max()) \n",
    "print(\"Test: \", test_source[\"Time\"].min(), test_source[\"Time\"].max()) "
   ]
  },
  {
   "attachments": {},
   "cell_type": "markdown",
   "metadata": {},
   "source": [
    "# DUPLICATES"
   ]
  },
  {
   "cell_type": "code",
   "execution_count": 31,
   "metadata": {},
   "outputs": [
    {
     "data": {
      "text/plain": [
       "0"
      ]
     },
     "execution_count": 31,
     "metadata": {},
     "output_type": "execute_result"
    }
   ],
   "source": [
    "# looking for duplicates\n",
    "train_source.duplicated().sum()"
   ]
  },
  {
   "cell_type": "code",
   "execution_count": 32,
   "metadata": {},
   "outputs": [
    {
     "data": {
      "text/plain": [
       "0"
      ]
     },
     "execution_count": 32,
     "metadata": {},
     "output_type": "execute_result"
    }
   ],
   "source": [
    "test_source.duplicated().sum()"
   ]
  },
  {
   "attachments": {},
   "cell_type": "markdown",
   "metadata": {},
   "source": [
    "# NULL VALUES"
   ]
  },
  {
   "attachments": {},
   "cell_type": "markdown",
   "metadata": {},
   "source": [
    "Like we can see, there are missing values in several variables"
   ]
  },
  {
   "cell_type": "code",
   "execution_count": 33,
   "metadata": {},
   "outputs": [
    {
     "data": {
      "text/plain": [
       "train_idx     0\n",
       "Time          0\n",
       "Open         18\n",
       "High         56\n",
       "Low          67\n",
       "Close        39\n",
       "Volume       28\n",
       "label         0\n",
       "dtype: int64"
      ]
     },
     "execution_count": 33,
     "metadata": {},
     "output_type": "execute_result"
    }
   ],
   "source": [
    "# miramos si los datos tienen valores nulos\n",
    "train_source.isnull().sum()"
   ]
  },
  {
   "cell_type": "code",
   "execution_count": 34,
   "metadata": {},
   "outputs": [
    {
     "data": {
      "text/plain": [
       "train_idx    0.000000\n",
       "Time         0.000000\n",
       "Open         0.512967\n",
       "High         1.595896\n",
       "Low          1.909376\n",
       "Close        1.111428\n",
       "Volume       0.797948\n",
       "label        0.000000\n",
       "dtype: float64"
      ]
     },
     "execution_count": 34,
     "metadata": {},
     "output_type": "execute_result"
    }
   ],
   "source": [
    "# calculate the percentage of null values\n",
    "train_source.isnull().sum() / len(train_source) * 100"
   ]
  },
  {
   "attachments": {},
   "cell_type": "markdown",
   "metadata": {},
   "source": [
    "First we delete the rows with null values in the columns: \"Open\", \"High\", \"Low\", \"Close\", \"Volume\""
   ]
  },
  {
   "cell_type": "code",
   "execution_count": 35,
   "metadata": {},
   "outputs": [],
   "source": [
    "# delete the rows with null values in the columns: \"Open\", \"High\", \"Low\", \"Close\", \"Volume\"\n",
    "train = train_source.dropna(subset=[\"Open\", \"High\", \"Low\", \"Close\", \"Volume\"], how='all')"
   ]
  },
  {
   "cell_type": "code",
   "execution_count": 36,
   "metadata": {},
   "outputs": [
    {
     "data": {
      "text/plain": [
       "((3509, 8), (3509, 8))"
      ]
     },
     "execution_count": 36,
     "metadata": {},
     "output_type": "execute_result"
    }
   ],
   "source": [
    "# however there are no rows with the previous columns with null values\n",
    "train_source.shape, train.shape"
   ]
  },
  {
   "attachments": {},
   "cell_type": "markdown",
   "metadata": {},
   "source": [
    "There could be three approaches to deal with the columns *High*, *Low*:\n",
    "1. Fill the null values with the value of the previous day.\n",
    "2. Fill in the null values with the total average or of x previous days.\n",
    "3. Fill in the null values by adding the value of the row with the average of the variation of the last 10 days. In other words, if we have a null value on December 11, we would calculate the average of the variations of the previous 10 days. That is, if December 1 has a value of 2, December 2 has a value of 3 and so on until the 10th, we have an average variation of 1 ((1+1+1+1+ 1+1+1+1+1+1)/10). Then we would add this variation to the value of row 11.\n",
    "4. Remove the null values."
   ]
  },
  {
   "cell_type": "code",
   "execution_count": 40,
   "metadata": {},
   "outputs": [
    {
     "data": {
      "text/html": [
       "<div>\n",
       "<style scoped>\n",
       "    .dataframe tbody tr th:only-of-type {\n",
       "        vertical-align: middle;\n",
       "    }\n",
       "\n",
       "    .dataframe tbody tr th {\n",
       "        vertical-align: top;\n",
       "    }\n",
       "\n",
       "    .dataframe thead th {\n",
       "        text-align: right;\n",
       "    }\n",
       "</style>\n",
       "<table border=\"1\" class=\"dataframe\">\n",
       "  <thead>\n",
       "    <tr style=\"text-align: right;\">\n",
       "      <th></th>\n",
       "      <th>Time</th>\n",
       "      <th>Open</th>\n",
       "      <th>Close</th>\n",
       "    </tr>\n",
       "  </thead>\n",
       "  <tbody>\n",
       "    <tr>\n",
       "      <th>0</th>\n",
       "      <td>2007-03-07 00:00:00</td>\n",
       "      <td>1.31258</td>\n",
       "      <td>1.31648</td>\n",
       "    </tr>\n",
       "    <tr>\n",
       "      <th>1</th>\n",
       "      <td>2007-03-08 00:00:00</td>\n",
       "      <td>1.31667</td>\n",
       "      <td>1.31396</td>\n",
       "    </tr>\n",
       "    <tr>\n",
       "      <th>2</th>\n",
       "      <td>2007-03-09 00:00:00</td>\n",
       "      <td>1.31396</td>\n",
       "      <td>1.31118</td>\n",
       "    </tr>\n",
       "    <tr>\n",
       "      <th>3</th>\n",
       "      <td>2007-03-11 00:00:00</td>\n",
       "      <td>1.31236</td>\n",
       "      <td>1.31175</td>\n",
       "    </tr>\n",
       "    <tr>\n",
       "      <th>4</th>\n",
       "      <td>2007-03-12 00:00:00</td>\n",
       "      <td>1.31193</td>\n",
       "      <td>7.90878</td>\n",
       "    </tr>\n",
       "    <tr>\n",
       "      <th>5</th>\n",
       "      <td>2007-03-13 00:00:00</td>\n",
       "      <td>1.31811</td>\n",
       "      <td>1.31927</td>\n",
       "    </tr>\n",
       "    <tr>\n",
       "      <th>6</th>\n",
       "      <td>2007-03-14 00:00:00</td>\n",
       "      <td>1.31920</td>\n",
       "      <td>1.32238</td>\n",
       "    </tr>\n",
       "    <tr>\n",
       "      <th>7</th>\n",
       "      <td>2007-03-15 00:00:00</td>\n",
       "      <td>1.32240</td>\n",
       "      <td>1.32880</td>\n",
       "    </tr>\n",
       "    <tr>\n",
       "      <th>8</th>\n",
       "      <td>2007-03-16 00:00:00</td>\n",
       "      <td>1.32870</td>\n",
       "      <td>1.33106</td>\n",
       "    </tr>\n",
       "    <tr>\n",
       "      <th>9</th>\n",
       "      <td>2007-03-18 00:00:00</td>\n",
       "      <td>1.33064</td>\n",
       "      <td>1.33204</td>\n",
       "    </tr>\n",
       "  </tbody>\n",
       "</table>\n",
       "</div>"
      ],
      "text/plain": [
       "                  Time     Open    Close\n",
       "0  2007-03-07 00:00:00  1.31258  1.31648\n",
       "1  2007-03-08 00:00:00  1.31667  1.31396\n",
       "2  2007-03-09 00:00:00  1.31396  1.31118\n",
       "3  2007-03-11 00:00:00  1.31236  1.31175\n",
       "4  2007-03-12 00:00:00  1.31193  7.90878\n",
       "5  2007-03-13 00:00:00  1.31811  1.31927\n",
       "6  2007-03-14 00:00:00  1.31920  1.32238\n",
       "7  2007-03-15 00:00:00  1.32240  1.32880\n",
       "8  2007-03-16 00:00:00  1.32870  1.33106\n",
       "9  2007-03-18 00:00:00  1.33064  1.33204"
      ]
     },
     "execution_count": 40,
     "metadata": {},
     "output_type": "execute_result"
    }
   ],
   "source": [
    "train[[\"Time\", \"Open\", \"Close\"]].head(10)"
   ]
  },
  {
   "cell_type": "code",
   "execution_count": 37,
   "metadata": {},
   "outputs": [
    {
     "data": {
      "text/plain": [
       "test_idx    0\n",
       "Time        0\n",
       "Open        0\n",
       "High        0\n",
       "Low         0\n",
       "Close       0\n",
       "Volume      0\n",
       "dtype: int64"
      ]
     },
     "execution_count": 37,
     "metadata": {},
     "output_type": "execute_result"
    }
   ],
   "source": [
    "test_source.isnull().sum()"
   ]
  },
  {
   "attachments": {},
   "cell_type": "markdown",
   "metadata": {},
   "source": [
    "# OUTLIERS"
   ]
  },
  {
   "cell_type": "code",
   "execution_count": 14,
   "metadata": {},
   "outputs": [],
   "source": [
    "# miramos si los datos tiene valores atípicos con gráficos\n"
   ]
  }
 ],
 "metadata": {
  "kernelspec": {
   "display_name": "env",
   "language": "python",
   "name": "python3"
  },
  "language_info": {
   "codemirror_mode": {
    "name": "ipython",
    "version": 3
   },
   "file_extension": ".py",
   "mimetype": "text/x-python",
   "name": "python",
   "nbconvert_exporter": "python",
   "pygments_lexer": "ipython3",
   "version": "3.10.6"
  },
  "orig_nbformat": 4
 },
 "nbformat": 4,
 "nbformat_minor": 2
}
