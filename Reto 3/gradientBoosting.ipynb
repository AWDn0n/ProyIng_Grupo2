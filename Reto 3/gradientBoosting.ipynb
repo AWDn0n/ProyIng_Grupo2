{
 "cells": [
  {
   "cell_type": "code",
   "execution_count": 46,
   "metadata": {},
   "outputs": [],
   "source": [
    "import pandas as pd\n",
    "import xgboost as xgb\n",
    "import json\n",
    "\n",
    "# read datasets\n",
    "train_source = pd.read_csv(\"./data/train_cleaned.csv\")\n",
    "test_source = pd.read_csv(\"./data/testing_set.csv\")\n",
    "\n",
    "# new datasets\n",
    "train_data = train_source.copy()\n",
    "test_data = test_source.copy()\n",
    "\n",
    "# Preprocess the Time column creating 3 new columns: day, month and year\n",
    "train_data['day'] = pd.to_datetime(train_data['Time']).dt.day\n",
    "train_data['month'] = pd.to_datetime(train_data['Time']).dt.month\n",
    "train_data['year'] = pd.to_datetime(train_data['Time']).dt.year\n",
    "test_data['day'] = pd.to_datetime(test_data['Time']).dt.day\n",
    "test_data['month'] = pd.to_datetime(test_data['Time']).dt.month\n",
    "test_data['year'] = pd.to_datetime(test_data['Time']).dt.year\n",
    "\n",
    "# remove the columns that are not needed: train_idx, valid, Time, outlier and valid2 columns\n",
    "train_data = train_data.drop(['train_idx', 'valid', 'outlier', 'valid2', \"Time\"], axis=1)\n",
    "test_data = test_data.drop(['test_idx', \"Time\"], axis=1)\n",
    "\n",
    "# Split the training dataset into features (X) and target variable (y)\n",
    "X_train = train_data.drop('label', axis=1)\n",
    "y_train = train_data['label']\n",
    "\n",
    "# Create a Gradient Boosting Classifier\n",
    "model = xgb.XGBClassifier()\n",
    "\n",
    "# Train the model\n",
    "model.fit(X_train, y_train)\n",
    "\n",
    "# Make predictions on the test dataset\n",
    "predictions = model.predict(test_data)\n",
    "\n",
    "# Create the dictionary with test_idx as keys and predicted labels as values\n",
    "predictions_dict = {str(idx): int(label) for idx, label in zip(test_source['test_idx'], predictions)}\n",
    "\n",
    "# Create the final JSON structure\n",
    "output = {\"target\": predictions_dict}\n",
    "\n",
    "# Save the JSON to a file\n",
    "with open('./data/predsGB.json', 'w') as json_file:\n",
    "    json.dump(output, json_file)\n"
   ]
  }
 ],
 "metadata": {
  "kernelspec": {
   "display_name": "Python 3",
   "language": "python",
   "name": "python3"
  },
  "language_info": {
   "codemirror_mode": {
    "name": "ipython",
    "version": 3
   },
   "file_extension": ".py",
   "mimetype": "text/x-python",
   "name": "python",
   "nbconvert_exporter": "python",
   "pygments_lexer": "ipython3",
   "version": "3.10.6"
  },
  "orig_nbformat": 4
 },
 "nbformat": 4,
 "nbformat_minor": 2
}
