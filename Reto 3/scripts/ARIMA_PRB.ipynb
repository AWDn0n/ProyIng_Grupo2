{
 "cells": [
  {
   "cell_type": "code",
   "execution_count": 1,
   "metadata": {},
   "outputs": [],
   "source": [
    "import pandas as pd\n",
    "# Importando datos\n",
    "train = pd.read_csv('data/train_cleaned_v2.csv')\n",
    "train.drop(['train_idx', 'valid'], axis=1, inplace=True)\n",
    "# Importo test\n",
    "test = pd.read_csv('data/testing_set.csv')\n",
    "test.drop('test_idx', axis=1, inplace=True)"
   ]
  },
  {
   "attachments": {},
   "cell_type": "markdown",
   "metadata": {},
   "source": [
    "# PMDARIMA"
   ]
  },
  {
   "cell_type": "code",
   "execution_count": 2,
   "metadata": {},
   "outputs": [],
   "source": [
    "# pip install pmdarima\n",
    "from pmdarima.arima import auto_arima"
   ]
  },
  {
   "cell_type": "code",
   "execution_count": 17,
   "metadata": {},
   "outputs": [
    {
     "name": "stdout",
     "output_type": "stream",
     "text": [
      "Performing stepwise search to minimize aic\n",
      " ARIMA(2,1,2)(0,0,0)[0] intercept   : AIC=-24389.508, Time=1.28 sec\n",
      " ARIMA(0,1,0)(0,0,0)[0] intercept   : AIC=-24397.508, Time=0.44 sec\n",
      " ARIMA(1,1,0)(0,0,0)[0] intercept   : AIC=-24396.447, Time=1.30 sec\n",
      " ARIMA(0,1,1)(0,0,0)[0] intercept   : AIC=-24396.452, Time=0.68 sec\n",
      " ARIMA(0,1,0)(0,0,0)[0]             : AIC=-24399.399, Time=0.18 sec\n",
      " ARIMA(1,1,1)(0,0,0)[0] intercept   : AIC=-24394.415, Time=2.03 sec\n",
      "\n",
      "Best model:  ARIMA(0,1,0)(0,0,0)[0]          \n",
      "Total fit time: 5.916 seconds\n"
     ]
    }
   ],
   "source": [
    "# Creo el modelo\n",
    "model = auto_arima(train['Close'], trace=True, error_action='ignore', suppress_warnings=True)"
   ]
  },
  {
   "cell_type": "code",
   "execution_count": 21,
   "metadata": {},
   "outputs": [],
   "source": [
    "# Hago la predicción sobre el conjunto de testeo\n",
    "forecast = model.predict(n_periods=1500)"
   ]
  },
  {
   "cell_type": "code",
   "execution_count": 19,
   "metadata": {},
   "outputs": [
    {
     "data": {
      "text/html": [
       "<div>\n",
       "<style scoped>\n",
       "    .dataframe tbody tr th:only-of-type {\n",
       "        vertical-align: middle;\n",
       "    }\n",
       "\n",
       "    .dataframe tbody tr th {\n",
       "        vertical-align: top;\n",
       "    }\n",
       "\n",
       "    .dataframe thead th {\n",
       "        text-align: right;\n",
       "    }\n",
       "</style>\n",
       "<table border=\"1\" class=\"dataframe\">\n",
       "  <thead>\n",
       "    <tr style=\"text-align: right;\">\n",
       "      <th></th>\n",
       "      <th>Close</th>\n",
       "    </tr>\n",
       "  </thead>\n",
       "  <tbody>\n",
       "    <tr>\n",
       "      <th>0</th>\n",
       "      <td>NaN</td>\n",
       "    </tr>\n",
       "    <tr>\n",
       "      <th>1</th>\n",
       "      <td>NaN</td>\n",
       "    </tr>\n",
       "    <tr>\n",
       "      <th>2</th>\n",
       "      <td>NaN</td>\n",
       "    </tr>\n",
       "    <tr>\n",
       "      <th>3</th>\n",
       "      <td>NaN</td>\n",
       "    </tr>\n",
       "    <tr>\n",
       "      <th>4</th>\n",
       "      <td>NaN</td>\n",
       "    </tr>\n",
       "    <tr>\n",
       "      <th>...</th>\n",
       "      <td>...</td>\n",
       "    </tr>\n",
       "    <tr>\n",
       "      <th>1495</th>\n",
       "      <td>NaN</td>\n",
       "    </tr>\n",
       "    <tr>\n",
       "      <th>1496</th>\n",
       "      <td>NaN</td>\n",
       "    </tr>\n",
       "    <tr>\n",
       "      <th>1497</th>\n",
       "      <td>NaN</td>\n",
       "    </tr>\n",
       "    <tr>\n",
       "      <th>1498</th>\n",
       "      <td>NaN</td>\n",
       "    </tr>\n",
       "    <tr>\n",
       "      <th>1499</th>\n",
       "      <td>NaN</td>\n",
       "    </tr>\n",
       "  </tbody>\n",
       "</table>\n",
       "<p>1500 rows × 1 columns</p>\n",
       "</div>"
      ],
      "text/plain": [
       "      Close\n",
       "0       NaN\n",
       "1       NaN\n",
       "2       NaN\n",
       "3       NaN\n",
       "4       NaN\n",
       "...     ...\n",
       "1495    NaN\n",
       "1496    NaN\n",
       "1497    NaN\n",
       "1498    NaN\n",
       "1499    NaN\n",
       "\n",
       "[1500 rows x 1 columns]"
      ]
     },
     "execution_count": 19,
     "metadata": {},
     "output_type": "execute_result"
    }
   ],
   "source": [
    "# Creo el dataframe de predicciones\n",
    "forecast = pd.DataFrame(forecast, index=test.index, columns=['Close'])\n",
    "forecast"
   ]
  },
  {
   "cell_type": "code",
   "execution_count": 23,
   "metadata": {},
   "outputs": [
    {
     "data": {
      "text/plain": [
       "array([1.17069])"
      ]
     },
     "execution_count": 23,
     "metadata": {},
     "output_type": "execute_result"
    }
   ],
   "source": [
    "forecast.unique()"
   ]
  },
  {
   "attachments": {},
   "cell_type": "markdown",
   "metadata": {},
   "source": [
    "# ARIMA Kaggle"
   ]
  },
  {
   "cell_type": "code",
   "execution_count": 5,
   "metadata": {},
   "outputs": [],
   "source": [
    "import itertools\n",
    "import statsmodels.api as sm"
   ]
  },
  {
   "cell_type": "code",
   "execution_count": 3,
   "metadata": {},
   "outputs": [],
   "source": [
    "p = d = q = range(0, 3)\n",
    "pdq = list(itertools.product(p, d, q))"
   ]
  },
  {
   "cell_type": "code",
   "execution_count": 4,
   "metadata": {},
   "outputs": [
    {
     "name": "stdout",
     "output_type": "stream",
     "text": [
      "Examples of parameter combinations for Seasonal ARIMA...\n",
      "SARIMAX: (0, 0, 1) x (0, 0, 0, 0)\n",
      "SARIMAX: (0, 1, 0) x (0, 0, 0, 0)\n"
     ]
    }
   ],
   "source": [
    "seasonal_pdq = [(0, 0, 0, 0)]\n",
    "\n",
    "print('Examples of parameter combinations for Seasonal ARIMA...')\n",
    "print('SARIMAX: {} x {}'.format(pdq[1], seasonal_pdq[0]))\n",
    "print('SARIMAX: {} x {}'.format(pdq[3], seasonal_pdq[0]))"
   ]
  },
  {
   "cell_type": "code",
   "execution_count": 6,
   "metadata": {},
   "outputs": [
    {
     "name": "stdout",
     "output_type": "stream",
     "text": [
      "ARIMA(0, 0, 0)x(0, 0, 0, 0)12 - AIC:11788.159376129855\n",
      "ARIMA(0, 0, 1)x(0, 0, 0, 0)12 - AIC:6952.29939890713\n",
      "ARIMA(0, 0, 2)x(0, 0, 0, 0)12 - AIC:2393.6951855067123\n",
      "ARIMA(0, 1, 0)x(0, 0, 0, 0)12 - AIC:-24391.55516605069\n",
      "ARIMA(0, 1, 1)x(0, 0, 0, 0)12 - AIC:-24382.679235505682\n",
      "ARIMA(0, 1, 2)x(0, 0, 0, 0)12 - AIC:-24372.741072234283\n",
      "ARIMA(0, 2, 0)x(0, 0, 0, 0)12 - AIC:-22012.49511915057\n",
      "ARIMA(0, 2, 1)x(0, 0, 0, 0)12 - AIC:-24363.43643944328\n"
     ]
    },
    {
     "name": "stderr",
     "output_type": "stream",
     "text": [
      "c:\\Users\\pablo\\AppData\\Local\\Programs\\Python\\Python310\\lib\\site-packages\\statsmodels\\base\\model.py:607: ConvergenceWarning: Maximum Likelihood optimization failed to converge. Check mle_retvals\n",
      "  warnings.warn(\"Maximum Likelihood optimization failed to \"\n"
     ]
    },
    {
     "name": "stdout",
     "output_type": "stream",
     "text": [
      "ARIMA(0, 2, 2)x(0, 0, 0, 0)12 - AIC:-24355.34534344596\n",
      "ARIMA(1, 0, 0)x(0, 0, 0, 0)12 - AIC:-24397.635628444743\n",
      "ARIMA(1, 0, 1)x(0, 0, 0, 0)12 - AIC:-24388.72687449026\n",
      "ARIMA(1, 0, 2)x(0, 0, 0, 0)12 - AIC:-24378.91455370395\n",
      "ARIMA(1, 1, 0)x(0, 0, 0, 0)12 - AIC:-24390.49765518552\n",
      "ARIMA(1, 1, 1)x(0, 0, 0, 0)12 - AIC:-24380.641355932796\n",
      "ARIMA(1, 1, 2)x(0, 0, 0, 0)12 - AIC:-24370.782190266204\n"
     ]
    },
    {
     "name": "stderr",
     "output_type": "stream",
     "text": [
      "c:\\Users\\pablo\\AppData\\Local\\Programs\\Python\\Python310\\lib\\site-packages\\statsmodels\\base\\model.py:607: ConvergenceWarning: Maximum Likelihood optimization failed to converge. Check mle_retvals\n",
      "  warnings.warn(\"Maximum Likelihood optimization failed to \"\n"
     ]
    },
    {
     "name": "stdout",
     "output_type": "stream",
     "text": [
      "ARIMA(1, 2, 0)x(0, 0, 0, 0)12 - AIC:-22974.024776241997\n",
      "ARIMA(1, 2, 1)x(0, 0, 0, 0)12 - AIC:-24361.994854616652\n",
      "ARIMA(1, 2, 2)x(0, 0, 0, 0)12 - AIC:-24353.51236284585\n"
     ]
    },
    {
     "name": "stderr",
     "output_type": "stream",
     "text": [
      "c:\\Users\\pablo\\AppData\\Local\\Programs\\Python\\Python310\\lib\\site-packages\\statsmodels\\base\\model.py:607: ConvergenceWarning: Maximum Likelihood optimization failed to converge. Check mle_retvals\n",
      "  warnings.warn(\"Maximum Likelihood optimization failed to \"\n"
     ]
    },
    {
     "name": "stdout",
     "output_type": "stream",
     "text": [
      "ARIMA(2, 0, 0)x(0, 0, 0, 0)12 - AIC:-24388.726289230748\n",
      "ARIMA(2, 0, 1)x(0, 0, 0, 0)12 - AIC:-24386.604925344123\n",
      "ARIMA(2, 0, 2)x(0, 0, 0, 0)12 - AIC:-24376.644784443117\n",
      "ARIMA(2, 1, 0)x(0, 0, 0, 0)12 - AIC:-24380.70622425469\n",
      "ARIMA(2, 1, 1)x(0, 0, 0, 0)12 - AIC:-21746.10748596854\n",
      "ARIMA(2, 1, 2)x(0, 0, 0, 0)12 - AIC:-24366.30690229743\n",
      "ARIMA(2, 2, 0)x(0, 0, 0, 0)12 - AIC:-23334.108559019656\n",
      "ARIMA(2, 2, 1)x(0, 0, 0, 0)12 - AIC:-24359.38641159521\n",
      "ARIMA(2, 2, 2)x(0, 0, 0, 0)12 - AIC:-24351.905777840482\n"
     ]
    }
   ],
   "source": [
    "best_score = 0\n",
    "best_params = None\n",
    "best_seasonal_params = None\n",
    "\n",
    "for param in pdq:\n",
    "    for param_seasonal in seasonal_pdq:\n",
    "        try:\n",
    "            \n",
    "            mod = sm.tsa.statespace.SARIMAX(train['Close'],\n",
    "                                            order=param,\n",
    "                                            seasonal_order=param_seasonal,\n",
    "                                            enforce_stationarity = False,\n",
    "                                            enforce_invertibility = False)\n",
    "\n",
    "            results = mod.fit()\n",
    "\n",
    "            print('ARIMA{}x{}12 - AIC:{}'.format(param, param_seasonal, results.aic))\n",
    "            \n",
    "            # guardamos el mejor resultado\n",
    "            if best_score == 0:\n",
    "                best_score = results.aic\n",
    "                best_params = param\n",
    "                best_seasonal_params = param_seasonal\n",
    "                \n",
    "            elif abs(results.aic) < abs(best_score):\n",
    "                best_score = results.aic\n",
    "                best_params = param\n",
    "                best_seasonal_params = param_seasonal\n",
    "            \n",
    "        # alguna combinación de parámetros en SARIMAX, no son válidos\n",
    "        # y los vamos a cazar con un except\n",
    "        except:\n",
    "            continue"
   ]
  },
  {
   "cell_type": "code",
   "execution_count": 7,
   "metadata": {},
   "outputs": [],
   "source": [
    "mod = sm.tsa.statespace.SARIMAX(train['Close'],\n",
    "                                order = best_params,\n",
    "                                seasonal_order = param_seasonal,\n",
    "                                enforce_stationarity = False,\n",
    "                                enforce_invertibility = False)\n",
    "\n",
    "results = mod.fit()"
   ]
  },
  {
   "cell_type": "code",
   "execution_count": 8,
   "metadata": {},
   "outputs": [
    {
     "data": {
      "text/plain": [
       "1500"
      ]
     },
     "execution_count": 8,
     "metadata": {},
     "output_type": "execute_result"
    }
   ],
   "source": [
    "len(test)"
   ]
  },
  {
   "cell_type": "code",
   "execution_count": 11,
   "metadata": {},
   "outputs": [],
   "source": [
    "pred_uc = results.get_forecast(steps = len(test))\n",
    "pred_ci = pred_uc.conf_int()"
   ]
  },
  {
   "cell_type": "code",
   "execution_count": 15,
   "metadata": {},
   "outputs": [
    {
     "data": {
      "text/plain": [
       "3508    0.231561\n",
       "3509   -1.111609\n",
       "3510   -1.575124\n",
       "3511   -1.575124\n",
       "3512   -1.575124\n",
       "          ...   \n",
       "5003   -1.575124\n",
       "5004   -1.575124\n",
       "5005   -1.575124\n",
       "5006   -1.575124\n",
       "5007   -1.575124\n",
       "Name: lower Close, Length: 1500, dtype: float64"
      ]
     },
     "execution_count": 15,
     "metadata": {},
     "output_type": "execute_result"
    }
   ],
   "source": [
    "y_pred = pred_ci.iloc[:, 0]\n",
    "y_pred"
   ]
  },
  {
   "cell_type": "code",
   "execution_count": null,
   "metadata": {},
   "outputs": [],
   "source": []
  }
 ],
 "metadata": {
  "kernelspec": {
   "display_name": "Python 3",
   "language": "python",
   "name": "python3"
  },
  "language_info": {
   "codemirror_mode": {
    "name": "ipython",
    "version": 3
   },
   "file_extension": ".py",
   "mimetype": "text/x-python",
   "name": "python",
   "nbconvert_exporter": "python",
   "pygments_lexer": "ipython3",
   "version": "3.10.6"
  },
  "orig_nbformat": 4
 },
 "nbformat": 4,
 "nbformat_minor": 2
}
