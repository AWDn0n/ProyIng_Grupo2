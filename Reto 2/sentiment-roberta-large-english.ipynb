{
 "cells": [
  {
   "attachments": {},
   "cell_type": "markdown",
   "metadata": {},
   "source": [
    "https://huggingface.co/siebert/sentiment-roberta-large-english"
   ]
  },
  {
   "attachments": {},
   "cell_type": "markdown",
   "metadata": {},
   "source": [
    "# IMPORT LIBRARIES"
   ]
  },
  {
   "cell_type": "code",
   "execution_count": 1,
   "metadata": {},
   "outputs": [],
   "source": [
    "# Data processing\n",
    "import pandas as pd\n",
    "import numpy as np\n",
    "from datasets import load_dataset, Dataset\n",
    "import json\n",
    "\n",
    "# Model\n",
    "from sklearn.model_selection import train_test_split\n",
    "from transformers import AutoTokenizer\n",
    "from transformers import AutoModelForSequenceClassification, Trainer, TrainingArguments, EarlyStoppingCallback, TextClassificationPipeline\n",
    "import torch\n",
    "from torch import softmax\n",
    "\n",
    "# Evaluation\n",
    "from sklearn.metrics import accuracy_score, precision_score, recall_score, f1_score, confusion_matrix, auc, roc_curve\n",
    "import evaluate\n",
    "\n",
    "# Visualization\n",
    "from seaborn import heatmap\n",
    "from matplotlib import pyplot as plt"
   ]
  },
  {
   "attachments": {},
   "cell_type": "markdown",
   "metadata": {},
   "source": [
    "# LOAD DATA"
   ]
  },
  {
   "cell_type": "code",
   "execution_count": 2,
   "metadata": {},
   "outputs": [],
   "source": [
    "train = pd.read_csv('data/train.csv')\n",
    "test = pd.read_csv('data/test.csv')"
   ]
  },
  {
   "cell_type": "code",
   "execution_count": 3,
   "metadata": {},
   "outputs": [
    {
     "data": {
      "text/html": [
       "<div>\n",
       "<style scoped>\n",
       "    .dataframe tbody tr th:only-of-type {\n",
       "        vertical-align: middle;\n",
       "    }\n",
       "\n",
       "    .dataframe tbody tr th {\n",
       "        vertical-align: top;\n",
       "    }\n",
       "\n",
       "    .dataframe thead th {\n",
       "        text-align: right;\n",
       "    }\n",
       "</style>\n",
       "<table border=\"1\" class=\"dataframe\">\n",
       "  <thead>\n",
       "    <tr style=\"text-align: right;\">\n",
       "      <th></th>\n",
       "      <th>train_idx</th>\n",
       "      <th>text</th>\n",
       "      <th>label</th>\n",
       "      <th>label_text</th>\n",
       "    </tr>\n",
       "  </thead>\n",
       "  <tbody>\n",
       "    <tr>\n",
       "      <th>0</th>\n",
       "      <td>0</td>\n",
       "      <td>i really do recommend this to anyone in need o...</td>\n",
       "      <td>1</td>\n",
       "      <td>positive</td>\n",
       "    </tr>\n",
       "    <tr>\n",
       "      <th>1</th>\n",
       "      <td>1</td>\n",
       "      <td>very good every day camera fits nicely in the ...</td>\n",
       "      <td>1</td>\n",
       "      <td>positive</td>\n",
       "    </tr>\n",
       "    <tr>\n",
       "      <th>2</th>\n",
       "      <td>2</td>\n",
       "      <td>but , dollar for dollar , this dvd player is p...</td>\n",
       "      <td>1</td>\n",
       "      <td>positive</td>\n",
       "    </tr>\n",
       "    <tr>\n",
       "      <th>3</th>\n",
       "      <td>3</td>\n",
       "      <td>i got this phone yesterday and didn ' t find a...</td>\n",
       "      <td>1</td>\n",
       "      <td>positive</td>\n",
       "    </tr>\n",
       "    <tr>\n",
       "      <th>4</th>\n",
       "      <td>4</td>\n",
       "      <td>1 ) price gb of storage</td>\n",
       "      <td>1</td>\n",
       "      <td>positive</td>\n",
       "    </tr>\n",
       "  </tbody>\n",
       "</table>\n",
       "</div>"
      ],
      "text/plain": [
       "   train_idx                                               text  label  \\\n",
       "0          0  i really do recommend this to anyone in need o...      1   \n",
       "1          1  very good every day camera fits nicely in the ...      1   \n",
       "2          2  but , dollar for dollar , this dvd player is p...      1   \n",
       "3          3  i got this phone yesterday and didn ' t find a...      1   \n",
       "4          4                            1 ) price gb of storage      1   \n",
       "\n",
       "  label_text  \n",
       "0   positive  \n",
       "1   positive  \n",
       "2   positive  \n",
       "3   positive  \n",
       "4   positive  "
      ]
     },
     "execution_count": 3,
     "metadata": {},
     "output_type": "execute_result"
    }
   ],
   "source": [
    "train.head()"
   ]
  },
  {
   "cell_type": "code",
   "execution_count": 4,
   "metadata": {},
   "outputs": [
    {
     "data": {
      "text/html": [
       "<div>\n",
       "<style scoped>\n",
       "    .dataframe tbody tr th:only-of-type {\n",
       "        vertical-align: middle;\n",
       "    }\n",
       "\n",
       "    .dataframe tbody tr th {\n",
       "        vertical-align: top;\n",
       "    }\n",
       "\n",
       "    .dataframe thead th {\n",
       "        text-align: right;\n",
       "    }\n",
       "</style>\n",
       "<table border=\"1\" class=\"dataframe\">\n",
       "  <thead>\n",
       "    <tr style=\"text-align: right;\">\n",
       "      <th></th>\n",
       "      <th>test_idx</th>\n",
       "      <th>text</th>\n",
       "    </tr>\n",
       "  </thead>\n",
       "  <tbody>\n",
       "    <tr>\n",
       "      <th>0</th>\n",
       "      <td>0</td>\n",
       "      <td>fm receiver it has none</td>\n",
       "    </tr>\n",
       "    <tr>\n",
       "      <th>1</th>\n",
       "      <td>1</td>\n",
       "      <td>the picture quality surprised me , when i firs...</td>\n",
       "    </tr>\n",
       "    <tr>\n",
       "      <th>2</th>\n",
       "      <td>2</td>\n",
       "      <td>great video clip quality for a digital camera ...</td>\n",
       "    </tr>\n",
       "    <tr>\n",
       "      <th>3</th>\n",
       "      <td>3</td>\n",
       "      <td>creative did well on its rechargeable battery ...</td>\n",
       "    </tr>\n",
       "    <tr>\n",
       "      <th>4</th>\n",
       "      <td>4</td>\n",
       "      <td>i highly recommend this camera to anyone looki...</td>\n",
       "    </tr>\n",
       "  </tbody>\n",
       "</table>\n",
       "</div>"
      ],
      "text/plain": [
       "   test_idx                                               text\n",
       "0         0                            fm receiver it has none\n",
       "1         1  the picture quality surprised me , when i firs...\n",
       "2         2  great video clip quality for a digital camera ...\n",
       "3         3  creative did well on its rechargeable battery ...\n",
       "4         4  i highly recommend this camera to anyone looki..."
      ]
     },
     "execution_count": 4,
     "metadata": {},
     "output_type": "execute_result"
    }
   ],
   "source": [
    "test.head()"
   ]
  },
  {
   "attachments": {},
   "cell_type": "markdown",
   "metadata": {},
   "source": [
    "# TESTING MODEL"
   ]
  },
  {
   "cell_type": "code",
   "execution_count": 5,
   "metadata": {},
   "outputs": [
    {
     "name": "stdout",
     "output_type": "stream",
     "text": [
      "i tried to call norton , and the only numbers they list on their sites are either for non tech customer service ( tried this one and hung up after 75 minute of muzak ) or they have a 30 tech support number \n",
      " [{'label': 'POSITIVE', 'score': 0.9988652467727661}]\n"
     ]
    }
   ],
   "source": [
    "from transformers import pipeline\n",
    "model = \"siebert/sentiment-roberta-large-english\"\n",
    "sentiment_analysis = pipeline(\"sentiment-analysis\", model = model)\n",
    "print(test['text'][np.random.randint(0, len(test))], \"\\n\", sentiment_analysis(test['text'][np.random.randint(0, len(test))]))"
   ]
  },
  {
   "attachments": {},
   "cell_type": "markdown",
   "metadata": {},
   "source": [
    "# MODEL"
   ]
  },
  {
   "cell_type": "code",
   "execution_count": 6,
   "metadata": {},
   "outputs": [
    {
     "data": {
      "application/vnd.jupyter.widget-view+json": {
       "model_id": "e5cab4ee412040589218376528d82504",
       "version_major": 2,
       "version_minor": 0
      },
      "text/plain": [
       "Map:   0%|          | 0/2412 [00:00<?, ? examples/s]"
      ]
     },
     "metadata": {},
     "output_type": "display_data"
    },
    {
     "data": {
      "application/vnd.jupyter.widget-view+json": {
       "model_id": "4c12875b8d4044e2b324b514a8f0c40b",
       "version_major": 2,
       "version_minor": 0
      },
      "text/plain": [
       "Map:   0%|          | 0/604 [00:00<?, ? examples/s]"
      ]
     },
     "metadata": {},
     "output_type": "display_data"
    },
    {
     "name": "stderr",
     "output_type": "stream",
     "text": [
      "c:\\Users\\crist\\universidad\\3_PI_CNN\\ProyIng_Grupo2\\env\\lib\\site-packages\\transformers\\optimization.py:391: FutureWarning: This implementation of AdamW is deprecated and will be removed in a future version. Use the PyTorch implementation torch.optim.AdamW instead, or set `no_deprecation_warning=True` to disable this warning\n",
      "  warnings.warn(\n"
     ]
    },
    {
     "data": {
      "application/vnd.jupyter.widget-view+json": {
       "model_id": "cbea6055be6e46fd9f688f8a381b742c",
       "version_major": 2,
       "version_minor": 0
      },
      "text/plain": [
       "  0%|          | 0/3618 [00:00<?, ?it/s]"
      ]
     },
     "metadata": {},
     "output_type": "display_data"
    },
    {
     "name": "stdout",
     "output_type": "stream",
     "text": [
      "{'loss': 0.4549, 'learning_rate': 4.166666666666667e-06, 'epoch': 1.0}\n"
     ]
    },
    {
     "data": {
      "application/vnd.jupyter.widget-view+json": {
       "model_id": "d6b66efc51be4a3997491d3399250b9e",
       "version_major": 2,
       "version_minor": 0
      },
      "text/plain": [
       "  0%|          | 0/151 [00:00<?, ?it/s]"
      ]
     },
     "metadata": {},
     "output_type": "display_data"
    },
    {
     "name": "stdout",
     "output_type": "stream",
     "text": [
      "{'eval_loss': 0.25734788179397583, 'eval_accuracy': 0.9437086092715232, 'eval_runtime': 115.5496, 'eval_samples_per_second': 5.227, 'eval_steps_per_second': 1.307, 'epoch': 1.0}\n",
      "{'loss': 0.2173, 'learning_rate': 3.3333333333333333e-06, 'epoch': 2.0}\n"
     ]
    },
    {
     "data": {
      "application/vnd.jupyter.widget-view+json": {
       "model_id": "9751b86c339541799e54ee732a1bc0a4",
       "version_major": 2,
       "version_minor": 0
      },
      "text/plain": [
       "  0%|          | 0/151 [00:00<?, ?it/s]"
      ]
     },
     "metadata": {},
     "output_type": "display_data"
    },
    {
     "name": "stdout",
     "output_type": "stream",
     "text": [
      "{'eval_loss': 0.30298638343811035, 'eval_accuracy': 0.9486754966887417, 'eval_runtime': 129.7049, 'eval_samples_per_second': 4.657, 'eval_steps_per_second': 1.164, 'epoch': 2.0}\n",
      "{'train_runtime': 5980.3263, 'train_samples_per_second': 2.42, 'train_steps_per_second': 0.605, 'train_loss': 0.33607081829216545, 'epoch': 2.0}\n"
     ]
    },
    {
     "data": {
      "text/plain": [
       "TrainOutput(global_step=1206, training_loss=0.33607081829216545, metrics={'train_runtime': 5980.3263, 'train_samples_per_second': 2.42, 'train_steps_per_second': 0.605, 'train_loss': 0.33607081829216545, 'epoch': 2.0})"
      ]
     },
     "execution_count": 6,
     "metadata": {},
     "output_type": "execute_result"
    }
   ],
   "source": [
    "# Read the data\n",
    "train = pd.read_csv('data/train.csv')\n",
    "train_standalone = train[['text', 'label']]\n",
    "\n",
    "# Split the data into train and validation\n",
    "train_split, val_split = np.split(train_standalone.sample(frac=1, random_state=42), [int(.8*len(train))])\n",
    "\n",
    "# Convert pyhton dataframe to Hugging Face arrow dataset\n",
    "train_split_dt = Dataset.from_pandas(train_split)\n",
    "val_split_dt = Dataset.from_pandas(val_split)\n",
    "\n",
    "#define the model\n",
    "model_name = \"siebert/sentiment-roberta-large-english\"\n",
    "\n",
    "# Tokenizer from a pretrained model\n",
    "tokenizer = AutoTokenizer.from_pretrained(model_name)\n",
    "\n",
    "# Funtion to tokenize data\n",
    "def tokenize_dataset(data):\n",
    "    return tokenizer(data[\"text\"], \n",
    "                     max_length=32, \n",
    "                     truncation=True, \n",
    "                     padding=\"max_length\")\n",
    "\n",
    "# Tokenize the dataset\n",
    "train_encoding = train_split_dt.map(tokenize_dataset)\n",
    "val_encoding = val_split_dt.map(tokenize_dataset)\n",
    "\n",
    "# Load model\n",
    "model = AutoModelForSequenceClassification.from_pretrained(model_name, num_labels=2)\n",
    "\n",
    "# Set up training arguments\n",
    "training_args = TrainingArguments(\n",
    "    output_dir=\"./models/content/models/sentiment-roberta-large-english\",          \n",
    "    logging_dir='./models/content/logs/sentiment-roberta-large-english',            \n",
    "    logging_strategy='epoch',\n",
    "    logging_steps=100,    \n",
    "    num_train_epochs=6,              \n",
    "    per_device_train_batch_size=4,  \n",
    "    per_device_eval_batch_size=4,  \n",
    "    learning_rate=5e-6,\n",
    "    seed=42,\n",
    "    save_strategy='epoch',\n",
    "    save_steps=100,\n",
    "    evaluation_strategy='epoch',\n",
    "    eval_steps=100,\n",
    "    load_best_model_at_end=True,\n",
    ")\n",
    "\n",
    "# Function to compute the metric\n",
    "def compute_metrics(eval_pred):\n",
    "    metric = evaluate.load(\"accuracy\")\n",
    "    logits, labels = eval_pred\n",
    "    # probabilities = tf.nn.softmax(logits)\n",
    "    predictions = np.argmax(logits, axis=1)\n",
    "    return metric.compute(predictions=predictions, references=labels)\n",
    "\n",
    "# Train the model\n",
    "trainer = Trainer(\n",
    "    model=model,\n",
    "    args=training_args,\n",
    "    train_dataset=train_encoding,\n",
    "    eval_dataset=val_encoding,\n",
    "    compute_metrics=compute_metrics,\n",
    "    callbacks=[EarlyStoppingCallback(early_stopping_patience=1)]\n",
    ")\n",
    "\n",
    "trainer.train()"
   ]
  },
  {
   "attachments": {},
   "cell_type": "markdown",
   "metadata": {},
   "source": [
    "# TEST"
   ]
  },
  {
   "cell_type": "code",
   "execution_count": 7,
   "metadata": {},
   "outputs": [
    {
     "data": {
      "application/vnd.jupyter.widget-view+json": {
       "model_id": "a3ecb8c305244aff949ebcb39efc2944",
       "version_major": 2,
       "version_minor": 0
      },
      "text/plain": [
       "Map:   0%|          | 0/754 [00:00<?, ? examples/s]"
      ]
     },
     "metadata": {},
     "output_type": "display_data"
    },
    {
     "data": {
      "application/vnd.jupyter.widget-view+json": {
       "model_id": "a53ab924d2fa49bdb448738de6784228",
       "version_major": 2,
       "version_minor": 0
      },
      "text/plain": [
       "  0%|          | 0/189 [00:00<?, ?it/s]"
      ]
     },
     "metadata": {},
     "output_type": "display_data"
    }
   ],
   "source": [
    "# Read test data\n",
    "test = pd.read_csv('data/test.csv')\n",
    "\n",
    "# Convert pyhton dataframe to Hugging Face arrow dataset\n",
    "test_dt = Dataset.from_pandas(test)\n",
    "\n",
    "# Tokenize the test dataset\n",
    "test_encoding = test_dt.map(tokenize_dataset)\n",
    "\n",
    "# Use the trained model to make predictions on the test dataset\n",
    "raw_predictions = trainer.predict(test_encoding)\n",
    "\n",
    "# Convert raw predictions to probabilities and predicted labels\n",
    "probs = softmax(torch.tensor(raw_predictions.predictions), dim=1).numpy()\n",
    "pred_labels = np.argmax(probs, axis=1)\n",
    "\n",
    "# Create a dictionary that maps test_idx to predicted labels\n",
    "predictions = {\"target\": {str(test['test_idx'][i]): int(pred_labels[i]) for i in range(len(test))}}\n",
    "\n",
    "    \n",
    "# Save the predictions to a JSON file\n",
    "with open('predictions2.json', 'w') as f:\n",
    "    json.dump(predictions, f)"
   ]
  }
 ],
 "metadata": {
  "kernelspec": {
   "display_name": "env",
   "language": "python",
   "name": "python3"
  },
  "language_info": {
   "codemirror_mode": {
    "name": "ipython",
    "version": 3
   },
   "file_extension": ".py",
   "mimetype": "text/x-python",
   "name": "python",
   "nbconvert_exporter": "python",
   "pygments_lexer": "ipython3",
   "version": "3.10.6"
  },
  "orig_nbformat": 4
 },
 "nbformat": 4,
 "nbformat_minor": 2
}
